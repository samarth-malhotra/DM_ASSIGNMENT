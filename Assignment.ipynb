{
 "cells": [
  {
   "cell_type": "markdown",
   "metadata": {},
   "source": [
    "# Importing Libraries"
   ]
  },
  {
   "cell_type": "code",
   "execution_count": 1,
   "metadata": {},
   "outputs": [],
   "source": [
    "import pandas as pd\n",
    "import matplotlib.pyplot as plt\n",
    "import seaborn as sns\n",
    "import numpy as np\n",
    "from sklearn.model_selection import train_test_split\n",
    "from sklearn.preprocessing import OneHotEncoder\n",
    "from sklearn import preprocessing"
   ]
  },
  {
   "cell_type": "markdown",
   "metadata": {},
   "source": [
    "# Data Acquisition"
   ]
  },
  {
   "cell_type": "code",
   "execution_count": 4,
   "metadata": {},
   "outputs": [
    {
     "data": {
      "text/html": [
       "<div>\n",
       "<style scoped>\n",
       "    .dataframe tbody tr th:only-of-type {\n",
       "        vertical-align: middle;\n",
       "    }\n",
       "\n",
       "    .dataframe tbody tr th {\n",
       "        vertical-align: top;\n",
       "    }\n",
       "\n",
       "    .dataframe thead th {\n",
       "        text-align: right;\n",
       "    }\n",
       "</style>\n",
       "<table border=\"1\" class=\"dataframe\">\n",
       "  <thead>\n",
       "    <tr style=\"text-align: right;\">\n",
       "      <th></th>\n",
       "      <th>ID</th>\n",
       "      <th>Reason for absence</th>\n",
       "      <th>Month of absence</th>\n",
       "      <th>Day of the week</th>\n",
       "      <th>Seasons</th>\n",
       "      <th>Transportation expense</th>\n",
       "      <th>Distance from Residence to Work</th>\n",
       "      <th>Service time</th>\n",
       "      <th>Age</th>\n",
       "      <th>Work load Average/day</th>\n",
       "      <th>...</th>\n",
       "      <th>Disciplinary failure</th>\n",
       "      <th>Education</th>\n",
       "      <th>Son</th>\n",
       "      <th>Social drinker</th>\n",
       "      <th>Social smoker</th>\n",
       "      <th>Pet</th>\n",
       "      <th>Weight</th>\n",
       "      <th>Height</th>\n",
       "      <th>Body mass index</th>\n",
       "      <th>Absenteeism time in hours</th>\n",
       "    </tr>\n",
       "  </thead>\n",
       "  <tbody>\n",
       "    <tr>\n",
       "      <th>0</th>\n",
       "      <td>11</td>\n",
       "      <td>26</td>\n",
       "      <td>7</td>\n",
       "      <td>3</td>\n",
       "      <td>1</td>\n",
       "      <td>289</td>\n",
       "      <td>36</td>\n",
       "      <td>13</td>\n",
       "      <td>33</td>\n",
       "      <td>239.554</td>\n",
       "      <td>...</td>\n",
       "      <td>0</td>\n",
       "      <td>1</td>\n",
       "      <td>2</td>\n",
       "      <td>1</td>\n",
       "      <td>0</td>\n",
       "      <td>1</td>\n",
       "      <td>90</td>\n",
       "      <td>172</td>\n",
       "      <td>30</td>\n",
       "      <td>4</td>\n",
       "    </tr>\n",
       "    <tr>\n",
       "      <th>1</th>\n",
       "      <td>36</td>\n",
       "      <td>0</td>\n",
       "      <td>7</td>\n",
       "      <td>3</td>\n",
       "      <td>1</td>\n",
       "      <td>118</td>\n",
       "      <td>13</td>\n",
       "      <td>18</td>\n",
       "      <td>50</td>\n",
       "      <td>239.554</td>\n",
       "      <td>...</td>\n",
       "      <td>1</td>\n",
       "      <td>1</td>\n",
       "      <td>1</td>\n",
       "      <td>1</td>\n",
       "      <td>0</td>\n",
       "      <td>0</td>\n",
       "      <td>98</td>\n",
       "      <td>178</td>\n",
       "      <td>31</td>\n",
       "      <td>0</td>\n",
       "    </tr>\n",
       "    <tr>\n",
       "      <th>2</th>\n",
       "      <td>3</td>\n",
       "      <td>23</td>\n",
       "      <td>7</td>\n",
       "      <td>4</td>\n",
       "      <td>1</td>\n",
       "      <td>179</td>\n",
       "      <td>51</td>\n",
       "      <td>18</td>\n",
       "      <td>38</td>\n",
       "      <td>239.554</td>\n",
       "      <td>...</td>\n",
       "      <td>0</td>\n",
       "      <td>1</td>\n",
       "      <td>0</td>\n",
       "      <td>1</td>\n",
       "      <td>0</td>\n",
       "      <td>0</td>\n",
       "      <td>89</td>\n",
       "      <td>170</td>\n",
       "      <td>31</td>\n",
       "      <td>2</td>\n",
       "    </tr>\n",
       "    <tr>\n",
       "      <th>3</th>\n",
       "      <td>7</td>\n",
       "      <td>7</td>\n",
       "      <td>7</td>\n",
       "      <td>5</td>\n",
       "      <td>1</td>\n",
       "      <td>279</td>\n",
       "      <td>5</td>\n",
       "      <td>14</td>\n",
       "      <td>39</td>\n",
       "      <td>239.554</td>\n",
       "      <td>...</td>\n",
       "      <td>0</td>\n",
       "      <td>1</td>\n",
       "      <td>2</td>\n",
       "      <td>1</td>\n",
       "      <td>1</td>\n",
       "      <td>0</td>\n",
       "      <td>68</td>\n",
       "      <td>168</td>\n",
       "      <td>24</td>\n",
       "      <td>4</td>\n",
       "    </tr>\n",
       "    <tr>\n",
       "      <th>4</th>\n",
       "      <td>11</td>\n",
       "      <td>23</td>\n",
       "      <td>7</td>\n",
       "      <td>5</td>\n",
       "      <td>1</td>\n",
       "      <td>289</td>\n",
       "      <td>36</td>\n",
       "      <td>13</td>\n",
       "      <td>33</td>\n",
       "      <td>239.554</td>\n",
       "      <td>...</td>\n",
       "      <td>0</td>\n",
       "      <td>1</td>\n",
       "      <td>2</td>\n",
       "      <td>1</td>\n",
       "      <td>0</td>\n",
       "      <td>1</td>\n",
       "      <td>90</td>\n",
       "      <td>172</td>\n",
       "      <td>30</td>\n",
       "      <td>2</td>\n",
       "    </tr>\n",
       "  </tbody>\n",
       "</table>\n",
       "<p>5 rows × 21 columns</p>\n",
       "</div>"
      ],
      "text/plain": [
       "   ID  Reason for absence  Month of absence  Day of the week  Seasons  \\\n",
       "0  11                  26                 7                3        1   \n",
       "1  36                   0                 7                3        1   \n",
       "2   3                  23                 7                4        1   \n",
       "3   7                   7                 7                5        1   \n",
       "4  11                  23                 7                5        1   \n",
       "\n",
       "   Transportation expense  Distance from Residence to Work  Service time  Age  \\\n",
       "0                     289                               36            13   33   \n",
       "1                     118                               13            18   50   \n",
       "2                     179                               51            18   38   \n",
       "3                     279                                5            14   39   \n",
       "4                     289                               36            13   33   \n",
       "\n",
       "   Work load Average/day   ...  Disciplinary failure  Education  Son  \\\n",
       "0                 239.554  ...                     0          1    2   \n",
       "1                 239.554  ...                     1          1    1   \n",
       "2                 239.554  ...                     0          1    0   \n",
       "3                 239.554  ...                     0          1    2   \n",
       "4                 239.554  ...                     0          1    2   \n",
       "\n",
       "   Social drinker  Social smoker  Pet  Weight  Height  Body mass index  \\\n",
       "0               1              0    1      90     172               30   \n",
       "1               1              0    0      98     178               31   \n",
       "2               1              0    0      89     170               31   \n",
       "3               1              1    0      68     168               24   \n",
       "4               1              0    1      90     172               30   \n",
       "\n",
       "   Absenteeism time in hours  \n",
       "0                          4  \n",
       "1                          0  \n",
       "2                          2  \n",
       "3                          4  \n",
       "4                          2  \n",
       "\n",
       "[5 rows x 21 columns]"
      ]
     },
     "execution_count": 4,
     "metadata": {},
     "output_type": "execute_result"
    }
   ],
   "source": [
    "# Reading data from CSV files\n",
    "df = pd.read_csv(\"Absenteeism_at_work.csv\", sep=';') \n",
    "df.head()"
   ]
  },
  {
   "cell_type": "code",
   "execution_count": 7,
   "metadata": {},
   "outputs": [],
   "source": [
    "# Formatting columns names to replace spaces with underscore for easier reference\n",
    "df.columns = df.columns.str.strip().str.lower().str.replace(\" \",\"_\")"
   ]
  },
  {
   "cell_type": "code",
   "execution_count": 8,
   "metadata": {
    "scrolled": false
   },
   "outputs": [
    {
     "data": {
      "text/html": [
       "<div>\n",
       "<style scoped>\n",
       "    .dataframe tbody tr th:only-of-type {\n",
       "        vertical-align: middle;\n",
       "    }\n",
       "\n",
       "    .dataframe tbody tr th {\n",
       "        vertical-align: top;\n",
       "    }\n",
       "\n",
       "    .dataframe thead th {\n",
       "        text-align: right;\n",
       "    }\n",
       "</style>\n",
       "<table border=\"1\" class=\"dataframe\">\n",
       "  <thead>\n",
       "    <tr style=\"text-align: right;\">\n",
       "      <th></th>\n",
       "      <th>id</th>\n",
       "      <th>reason_for_absence</th>\n",
       "      <th>month_of_absence</th>\n",
       "      <th>day_of_the_week</th>\n",
       "      <th>seasons</th>\n",
       "      <th>transportation_expense</th>\n",
       "      <th>distance_from_residence_to_work</th>\n",
       "      <th>service_time</th>\n",
       "      <th>age</th>\n",
       "      <th>work_load_average/day</th>\n",
       "      <th>...</th>\n",
       "      <th>disciplinary_failure</th>\n",
       "      <th>education</th>\n",
       "      <th>son</th>\n",
       "      <th>social_drinker</th>\n",
       "      <th>social_smoker</th>\n",
       "      <th>pet</th>\n",
       "      <th>weight</th>\n",
       "      <th>height</th>\n",
       "      <th>body_mass_index</th>\n",
       "      <th>absenteeism_time_in_hours</th>\n",
       "    </tr>\n",
       "  </thead>\n",
       "  <tbody>\n",
       "    <tr>\n",
       "      <th>count</th>\n",
       "      <td>740.000000</td>\n",
       "      <td>740.000000</td>\n",
       "      <td>740.000000</td>\n",
       "      <td>740.000000</td>\n",
       "      <td>740.000000</td>\n",
       "      <td>740.000000</td>\n",
       "      <td>740.000000</td>\n",
       "      <td>740.000000</td>\n",
       "      <td>740.000000</td>\n",
       "      <td>740.000000</td>\n",
       "      <td>...</td>\n",
       "      <td>740.000000</td>\n",
       "      <td>740.000000</td>\n",
       "      <td>740.000000</td>\n",
       "      <td>740.000000</td>\n",
       "      <td>740.000000</td>\n",
       "      <td>740.000000</td>\n",
       "      <td>740.000000</td>\n",
       "      <td>740.000000</td>\n",
       "      <td>740.000000</td>\n",
       "      <td>740.000000</td>\n",
       "    </tr>\n",
       "    <tr>\n",
       "      <th>mean</th>\n",
       "      <td>18.017568</td>\n",
       "      <td>19.216216</td>\n",
       "      <td>6.324324</td>\n",
       "      <td>3.914865</td>\n",
       "      <td>2.544595</td>\n",
       "      <td>221.329730</td>\n",
       "      <td>29.631081</td>\n",
       "      <td>12.554054</td>\n",
       "      <td>36.450000</td>\n",
       "      <td>271.490235</td>\n",
       "      <td>...</td>\n",
       "      <td>0.054054</td>\n",
       "      <td>1.291892</td>\n",
       "      <td>1.018919</td>\n",
       "      <td>0.567568</td>\n",
       "      <td>0.072973</td>\n",
       "      <td>0.745946</td>\n",
       "      <td>79.035135</td>\n",
       "      <td>172.114865</td>\n",
       "      <td>26.677027</td>\n",
       "      <td>6.924324</td>\n",
       "    </tr>\n",
       "    <tr>\n",
       "      <th>std</th>\n",
       "      <td>11.021247</td>\n",
       "      <td>8.433406</td>\n",
       "      <td>3.436287</td>\n",
       "      <td>1.421675</td>\n",
       "      <td>1.111831</td>\n",
       "      <td>66.952223</td>\n",
       "      <td>14.836788</td>\n",
       "      <td>4.384873</td>\n",
       "      <td>6.478772</td>\n",
       "      <td>39.058116</td>\n",
       "      <td>...</td>\n",
       "      <td>0.226277</td>\n",
       "      <td>0.673238</td>\n",
       "      <td>1.098489</td>\n",
       "      <td>0.495749</td>\n",
       "      <td>0.260268</td>\n",
       "      <td>1.318258</td>\n",
       "      <td>12.883211</td>\n",
       "      <td>6.034995</td>\n",
       "      <td>4.285452</td>\n",
       "      <td>13.330998</td>\n",
       "    </tr>\n",
       "    <tr>\n",
       "      <th>min</th>\n",
       "      <td>1.000000</td>\n",
       "      <td>0.000000</td>\n",
       "      <td>0.000000</td>\n",
       "      <td>2.000000</td>\n",
       "      <td>1.000000</td>\n",
       "      <td>118.000000</td>\n",
       "      <td>5.000000</td>\n",
       "      <td>1.000000</td>\n",
       "      <td>27.000000</td>\n",
       "      <td>205.917000</td>\n",
       "      <td>...</td>\n",
       "      <td>0.000000</td>\n",
       "      <td>1.000000</td>\n",
       "      <td>0.000000</td>\n",
       "      <td>0.000000</td>\n",
       "      <td>0.000000</td>\n",
       "      <td>0.000000</td>\n",
       "      <td>56.000000</td>\n",
       "      <td>163.000000</td>\n",
       "      <td>19.000000</td>\n",
       "      <td>0.000000</td>\n",
       "    </tr>\n",
       "    <tr>\n",
       "      <th>25%</th>\n",
       "      <td>9.000000</td>\n",
       "      <td>13.000000</td>\n",
       "      <td>3.000000</td>\n",
       "      <td>3.000000</td>\n",
       "      <td>2.000000</td>\n",
       "      <td>179.000000</td>\n",
       "      <td>16.000000</td>\n",
       "      <td>9.000000</td>\n",
       "      <td>31.000000</td>\n",
       "      <td>244.387000</td>\n",
       "      <td>...</td>\n",
       "      <td>0.000000</td>\n",
       "      <td>1.000000</td>\n",
       "      <td>0.000000</td>\n",
       "      <td>0.000000</td>\n",
       "      <td>0.000000</td>\n",
       "      <td>0.000000</td>\n",
       "      <td>69.000000</td>\n",
       "      <td>169.000000</td>\n",
       "      <td>24.000000</td>\n",
       "      <td>2.000000</td>\n",
       "    </tr>\n",
       "    <tr>\n",
       "      <th>50%</th>\n",
       "      <td>18.000000</td>\n",
       "      <td>23.000000</td>\n",
       "      <td>6.000000</td>\n",
       "      <td>4.000000</td>\n",
       "      <td>3.000000</td>\n",
       "      <td>225.000000</td>\n",
       "      <td>26.000000</td>\n",
       "      <td>13.000000</td>\n",
       "      <td>37.000000</td>\n",
       "      <td>264.249000</td>\n",
       "      <td>...</td>\n",
       "      <td>0.000000</td>\n",
       "      <td>1.000000</td>\n",
       "      <td>1.000000</td>\n",
       "      <td>1.000000</td>\n",
       "      <td>0.000000</td>\n",
       "      <td>0.000000</td>\n",
       "      <td>83.000000</td>\n",
       "      <td>170.000000</td>\n",
       "      <td>25.000000</td>\n",
       "      <td>3.000000</td>\n",
       "    </tr>\n",
       "    <tr>\n",
       "      <th>75%</th>\n",
       "      <td>28.000000</td>\n",
       "      <td>26.000000</td>\n",
       "      <td>9.000000</td>\n",
       "      <td>5.000000</td>\n",
       "      <td>4.000000</td>\n",
       "      <td>260.000000</td>\n",
       "      <td>50.000000</td>\n",
       "      <td>16.000000</td>\n",
       "      <td>40.000000</td>\n",
       "      <td>294.217000</td>\n",
       "      <td>...</td>\n",
       "      <td>0.000000</td>\n",
       "      <td>1.000000</td>\n",
       "      <td>2.000000</td>\n",
       "      <td>1.000000</td>\n",
       "      <td>0.000000</td>\n",
       "      <td>1.000000</td>\n",
       "      <td>89.000000</td>\n",
       "      <td>172.000000</td>\n",
       "      <td>31.000000</td>\n",
       "      <td>8.000000</td>\n",
       "    </tr>\n",
       "    <tr>\n",
       "      <th>max</th>\n",
       "      <td>36.000000</td>\n",
       "      <td>28.000000</td>\n",
       "      <td>12.000000</td>\n",
       "      <td>6.000000</td>\n",
       "      <td>4.000000</td>\n",
       "      <td>388.000000</td>\n",
       "      <td>52.000000</td>\n",
       "      <td>29.000000</td>\n",
       "      <td>58.000000</td>\n",
       "      <td>378.884000</td>\n",
       "      <td>...</td>\n",
       "      <td>1.000000</td>\n",
       "      <td>4.000000</td>\n",
       "      <td>4.000000</td>\n",
       "      <td>1.000000</td>\n",
       "      <td>1.000000</td>\n",
       "      <td>8.000000</td>\n",
       "      <td>108.000000</td>\n",
       "      <td>196.000000</td>\n",
       "      <td>38.000000</td>\n",
       "      <td>120.000000</td>\n",
       "    </tr>\n",
       "  </tbody>\n",
       "</table>\n",
       "<p>8 rows × 21 columns</p>\n",
       "</div>"
      ],
      "text/plain": [
       "               id  reason_for_absence  month_of_absence  day_of_the_week  \\\n",
       "count  740.000000          740.000000        740.000000       740.000000   \n",
       "mean    18.017568           19.216216          6.324324         3.914865   \n",
       "std     11.021247            8.433406          3.436287         1.421675   \n",
       "min      1.000000            0.000000          0.000000         2.000000   \n",
       "25%      9.000000           13.000000          3.000000         3.000000   \n",
       "50%     18.000000           23.000000          6.000000         4.000000   \n",
       "75%     28.000000           26.000000          9.000000         5.000000   \n",
       "max     36.000000           28.000000         12.000000         6.000000   \n",
       "\n",
       "          seasons  transportation_expense  distance_from_residence_to_work  \\\n",
       "count  740.000000              740.000000                       740.000000   \n",
       "mean     2.544595              221.329730                        29.631081   \n",
       "std      1.111831               66.952223                        14.836788   \n",
       "min      1.000000              118.000000                         5.000000   \n",
       "25%      2.000000              179.000000                        16.000000   \n",
       "50%      3.000000              225.000000                        26.000000   \n",
       "75%      4.000000              260.000000                        50.000000   \n",
       "max      4.000000              388.000000                        52.000000   \n",
       "\n",
       "       service_time         age  work_load_average/day  ...  \\\n",
       "count    740.000000  740.000000             740.000000  ...   \n",
       "mean      12.554054   36.450000             271.490235  ...   \n",
       "std        4.384873    6.478772              39.058116  ...   \n",
       "min        1.000000   27.000000             205.917000  ...   \n",
       "25%        9.000000   31.000000             244.387000  ...   \n",
       "50%       13.000000   37.000000             264.249000  ...   \n",
       "75%       16.000000   40.000000             294.217000  ...   \n",
       "max       29.000000   58.000000             378.884000  ...   \n",
       "\n",
       "       disciplinary_failure   education         son  social_drinker  \\\n",
       "count            740.000000  740.000000  740.000000      740.000000   \n",
       "mean               0.054054    1.291892    1.018919        0.567568   \n",
       "std                0.226277    0.673238    1.098489        0.495749   \n",
       "min                0.000000    1.000000    0.000000        0.000000   \n",
       "25%                0.000000    1.000000    0.000000        0.000000   \n",
       "50%                0.000000    1.000000    1.000000        1.000000   \n",
       "75%                0.000000    1.000000    2.000000        1.000000   \n",
       "max                1.000000    4.000000    4.000000        1.000000   \n",
       "\n",
       "       social_smoker         pet      weight      height  body_mass_index  \\\n",
       "count     740.000000  740.000000  740.000000  740.000000       740.000000   \n",
       "mean        0.072973    0.745946   79.035135  172.114865        26.677027   \n",
       "std         0.260268    1.318258   12.883211    6.034995         4.285452   \n",
       "min         0.000000    0.000000   56.000000  163.000000        19.000000   \n",
       "25%         0.000000    0.000000   69.000000  169.000000        24.000000   \n",
       "50%         0.000000    0.000000   83.000000  170.000000        25.000000   \n",
       "75%         0.000000    1.000000   89.000000  172.000000        31.000000   \n",
       "max         1.000000    8.000000  108.000000  196.000000        38.000000   \n",
       "\n",
       "       absenteeism_time_in_hours  \n",
       "count                 740.000000  \n",
       "mean                    6.924324  \n",
       "std                    13.330998  \n",
       "min                     0.000000  \n",
       "25%                     2.000000  \n",
       "50%                     3.000000  \n",
       "75%                     8.000000  \n",
       "max                   120.000000  \n",
       "\n",
       "[8 rows x 21 columns]"
      ]
     },
     "execution_count": 8,
     "metadata": {},
     "output_type": "execute_result"
    }
   ],
   "source": [
    "# Displaying the central tendancies for the data\n",
    "df.describe(include='all')"
   ]
  },
  {
   "cell_type": "code",
   "execution_count": 9,
   "metadata": {
    "scrolled": false
   },
   "outputs": [
    {
     "data": {
      "text/plain": [
       "id                                 0\n",
       "reason_for_absence                 0\n",
       "month_of_absence                   0\n",
       "day_of_the_week                    0\n",
       "seasons                            0\n",
       "transportation_expense             0\n",
       "distance_from_residence_to_work    0\n",
       "service_time                       0\n",
       "age                                0\n",
       "work_load_average/day              0\n",
       "hit_target                         0\n",
       "disciplinary_failure               0\n",
       "education                          0\n",
       "son                                0\n",
       "social_drinker                     0\n",
       "social_smoker                      0\n",
       "pet                                0\n",
       "weight                             0\n",
       "height                             0\n",
       "body_mass_index                    0\n",
       "absenteeism_time_in_hours          0\n",
       "dtype: int64"
      ]
     },
     "execution_count": 9,
     "metadata": {},
     "output_type": "execute_result"
    }
   ],
   "source": [
    "# checking for null values\n",
    "df.isna().sum()"
   ]
  },
  {
   "cell_type": "markdown",
   "metadata": {},
   "source": [
    "# Outlire - Boxplot"
   ]
  },
  {
   "cell_type": "code",
   "execution_count": 10,
   "metadata": {
    "scrolled": false
   },
   "outputs": [
    {
     "data": {
      "text/plain": [
       "<matplotlib.axes._subplots.AxesSubplot at 0x2bf217b1e80>"
      ]
     },
     "execution_count": 10,
     "metadata": {},
     "output_type": "execute_result"
    },
    {
     "data": {
      "image/png": "[encoded data removed]",
      "text/plain": [
       "<Figure size 1440x720 with 6 Axes>"
      ]
     },
     "metadata": {
      "needs_background": "light"
     },
     "output_type": "display_data"
    }
   ],
   "source": [
    "fig, axes = plt.subplots(2, 3)\n",
    "fig.set_figheight(10)\n",
    "fig.set_figwidth(20)\n",
    "\n",
    "sns.boxplot(x='transportation_expense', data=df, ax=axes[0][0])\n",
    "sns.boxplot(x='distance_from_residence_to_work', data=df, ax=axes[0][1])\n",
    "sns.boxplot(x='service_time', data=df, ax=axes[0][2])\n",
    "sns.boxplot(x='work_load_average/day', data=df, ax=axes[1][0])\n",
    "sns.boxplot(x='hit_target', data=df, ax=axes[1][1])\n",
    "sns.boxplot(x='absenteeism_time_in_hours', data=df, ax=axes[1][2])"
   ]
  },
  {
   "cell_type": "markdown",
   "metadata": {},
   "source": [
    "# Data Processing to remove outlire"
   ]
  },
  {
   "cell_type": "code",
   "execution_count": 12,
   "metadata": {},
   "outputs": [],
   "source": [
    "# As per the identifications in above box plot, outliers have been idenfied and dropping with below conditions.\n",
    "# 1) absenteeism_time_in_hours => 24\n",
    "# 2) work_load_average/day > 350\n",
    "# 3) hit_target < 85\n",
    "# 4) transportation_expense > 380\n",
    "# 5) service_time > 25\n",
    "\n",
    "df = df.drop(index = df[df.absenteeism_time_in_hours >= 24].index).reset_index(drop=True)\n",
    "df = df.drop(index = df[df['work_load_average/day'] > 350].index).reset_index(drop=True)\n",
    "df = df.drop(index = df[df.hit_target < 85].index).reset_index(drop=True)\n",
    "df = df.drop(index = df[df.transportation_expense > 380].index).reset_index(drop=True)\n",
    "df = df.drop(index = df[df.service_time > 25].index).reset_index(drop=True)"
   ]
  },
  {
   "cell_type": "code",
   "execution_count": 13,
   "metadata": {
    "scrolled": false
   },
   "outputs": [
    {
     "data": {
      "text/plain": [
       "<matplotlib.axes._subplots.AxesSubplot at 0x2bf21659da0>"
      ]
     },
     "execution_count": 13,
     "metadata": {},
     "output_type": "execute_result"
    },
    {
     "data": {
      "image/png": "[encoded data removed]",
      "text/plain": [
       "<Figure size 1440x720 with 6 Axes>"
      ]
     },
     "metadata": {
      "needs_background": "light"
     },
     "output_type": "display_data"
    }
   ],
   "source": [
    "fig, axes = plt.subplots(2, 3)\n",
    "fig.set_figheight(10)\n",
    "fig.set_figwidth(20)\n",
    "\n",
    "sns.boxplot(x='transportation_expense', data=df, ax=axes[0][0])\n",
    "sns.boxplot(x='distance_from_residence_to_work', data=df, ax=axes[0][1])\n",
    "sns.boxplot(x='service_time', data=df, ax=axes[0][2])\n",
    "sns.boxplot(x='work_load_average/day', data=df, ax=axes[1][0])\n",
    "sns.boxplot(x='hit_target', data=df, ax=axes[1][1])\n",
    "sns.boxplot(x='absenteeism_time_in_hours', data=df, ax=axes[1][2])\n"
   ]
  },
  {
   "cell_type": "code",
   "execution_count": 14,
   "metadata": {},
   "outputs": [
    {
     "data": {
      "text/plain": [
       "(646, 21)"
      ]
     },
     "execution_count": 14,
     "metadata": {},
     "output_type": "execute_result"
    }
   ],
   "source": [
    "# Check dataset\n",
    "df.shape"
   ]
  },
  {
   "cell_type": "markdown",
   "metadata": {},
   "source": [
    "# Data visualization with bar graph"
   ]
  },
  {
   "cell_type": "code",
   "execution_count": 19,
   "metadata": {},
   "outputs": [
    {
     "data": {
      "text/plain": [
       "<matplotlib.axes._subplots.AxesSubplot at 0x2bf21833f98>"
      ]
     },
     "execution_count": 19,
     "metadata": {},
     "output_type": "execute_result"
    },
    {
     "data": {
      "image/png": "[encoded data removed]",
      "text/plain": [
       "<Figure size 1440x2520 with 10 Axes>"
      ]
     },
     "metadata": {
      "needs_background": "light"
     },
     "output_type": "display_data"
    }
   ],
   "source": [
    "fig, axes = plt.subplots(10, 1)\n",
    "fig.set_figheight(35)\n",
    "fig.set_figwidth(20)\n",
    "\n",
    "# For categorical columns\n",
    "sns.barplot(x='month_of_absence',y='absenteeism_time_in_hours',data=df,estimator=np.sum, ax=axes[0])\n",
    "sns.barplot(x='seasons',y='absenteeism_time_in_hours',data=df,estimator=np.sum,ax=axes[1])\n",
    "sns.barplot(x='reason_for_absence',y='absenteeism_time_in_hours',data=df,estimator=np.sum,ax=axes[2])\n",
    "sns.barplot(x='day_of_the_week',y='absenteeism_time_in_hours',data=df,estimator=np.sum, ax=axes[3])\n",
    "sns.barplot(x='education',y='absenteeism_time_in_hours',data=df,estimator=np.sum,ax=axes[4])\n",
    "sns.barplot(x='son',y='absenteeism_time_in_hours',data=df,estimator=np.sum,ax=axes[5])\n",
    "sns.barplot(x='pet',y='absenteeism_time_in_hours',data=df,estimator=np.sum,ax=axes[6])\n",
    "\n",
    "# For boolean columns\n",
    "sns.barplot(x='disciplinary_failure',y='absenteeism_time_in_hours',data=df,estimator=np.sum,ax=axes[7])\n",
    "sns.barplot(x='social_drinker',y='absenteeism_time_in_hours',data=df,estimator=np.sum,ax=axes[8])\n",
    "sns.barplot(x='social_smoker',y='absenteeism_time_in_hours',data=df,estimator=np.sum,ax=axes[9])"
   ]
  },
  {
   "cell_type": "markdown",
   "metadata": {},
   "source": [
    "<h1>Data Preprocessing</h1>"
   ]
  },
  {
   "cell_type": "code",
   "execution_count": 6,
   "metadata": {},
   "outputs": [],
   "source": [
    "# As the absenteen hour cannot be more than 24 per day thefore removing\n",
    "# The records where hour is more than 24\n",
    "df = df.drop(df[df.absenteeism_time_in_hours > 24].index).reset_index(drop = True)"
   ]
  },
  {
   "cell_type": "code",
   "execution_count": 7,
   "metadata": {},
   "outputs": [],
   "source": [
    "# As the data set have months till 12 therefore month 0 is invalid\n",
    "# Therefore removing records for month 0\n",
    "df = df.drop(df[df.month_of_absence == 0].index).reset_index(drop = True)"
   ]
  },
  {
   "cell_type": "code",
   "execution_count": 8,
   "metadata": {},
   "outputs": [],
   "source": [
    "# There is no feature in the dataset which can clearly identify duplicate therefore commenting\n",
    "# df = df.drop(df[df.duplicated(subset=None, keep='first')].index).reset_index(drop = True)\n"
   ]
  },
  {
   "cell_type": "code",
   "execution_count": 9,
   "metadata": {},
   "outputs": [],
   "source": [
    "# As the dataset has a derived attribute BMI which depends on person's height and weight therefore\n",
    "# We can remove the attributes height and weight\n",
    "df = df.drop(['weight', 'height'], axis=1)"
   ]
  },
  {
   "cell_type": "code",
   "execution_count": 10,
   "metadata": {},
   "outputs": [
    {
     "name": "stdout",
     "output_type": "stream",
     "text": [
      "<class 'pandas.core.frame.DataFrame'>\n",
      "RangeIndex: 709 entries, 0 to 708\n",
      "Data columns (total 60 columns):\n",
      "id                                 709 non-null int64\n",
      "transportation_expense             709 non-null int64\n",
      "distance_from_residence_to_work    709 non-null int64\n",
      "service_time                       709 non-null int64\n",
      "age                                709 non-null int64\n",
      "work_load_average/day              709 non-null float64\n",
      "hit_target                         709 non-null int64\n",
      "disciplinary_failure               709 non-null int64\n",
      "education                          709 non-null int64\n",
      "son                                709 non-null int64\n",
      "social_drinker                     709 non-null int64\n",
      "social_smoker                      709 non-null int64\n",
      "pet                                709 non-null int64\n",
      "body_mass_index                    709 non-null int64\n",
      "absenteeism_time_in_hours          709 non-null int64\n",
      "season_2                           709 non-null uint8\n",
      "season_3                           709 non-null uint8\n",
      "season_4                           709 non-null uint8\n",
      "reason_for_absence_1               709 non-null uint8\n",
      "reason_for_absence_2               709 non-null uint8\n",
      "reason_for_absence_3               709 non-null uint8\n",
      "reason_for_absence_4               709 non-null uint8\n",
      "reason_for_absence_5               709 non-null uint8\n",
      "reason_for_absence_6               709 non-null uint8\n",
      "reason_for_absence_7               709 non-null uint8\n",
      "reason_for_absence_8               709 non-null uint8\n",
      "reason_for_absence_9               709 non-null uint8\n",
      "reason_for_absence_10              709 non-null uint8\n",
      "reason_for_absence_11              709 non-null uint8\n",
      "reason_for_absence_12              709 non-null uint8\n",
      "reason_for_absence_13              709 non-null uint8\n",
      "reason_for_absence_14              709 non-null uint8\n",
      "reason_for_absence_15              709 non-null uint8\n",
      "reason_for_absence_16              709 non-null uint8\n",
      "reason_for_absence_17              709 non-null uint8\n",
      "reason_for_absence_18              709 non-null uint8\n",
      "reason_for_absence_19              709 non-null uint8\n",
      "reason_for_absence_21              709 non-null uint8\n",
      "reason_for_absence_22              709 non-null uint8\n",
      "reason_for_absence_23              709 non-null uint8\n",
      "reason_for_absence_24              709 non-null uint8\n",
      "reason_for_absence_25              709 non-null uint8\n",
      "reason_for_absence_26              709 non-null uint8\n",
      "reason_for_absence_27              709 non-null uint8\n",
      "reason_for_absence_28              709 non-null uint8\n",
      "month_of_absence_2                 709 non-null uint8\n",
      "month_of_absence_3                 709 non-null uint8\n",
      "month_of_absence_4                 709 non-null uint8\n",
      "month_of_absence_5                 709 non-null uint8\n",
      "month_of_absence_6                 709 non-null uint8\n",
      "month_of_absence_7                 709 non-null uint8\n",
      "month_of_absence_8                 709 non-null uint8\n",
      "month_of_absence_9                 709 non-null uint8\n",
      "month_of_absence_10                709 non-null uint8\n",
      "month_of_absence_11                709 non-null uint8\n",
      "month_of_absence_12                709 non-null uint8\n",
      "day_of_the_week_3                  709 non-null uint8\n",
      "day_of_the_week_4                  709 non-null uint8\n",
      "day_of_the_week_5                  709 non-null uint8\n",
      "day_of_the_week_6                  709 non-null uint8\n",
      "dtypes: float64(1), int64(14), uint8(45)\n",
      "memory usage: 114.3 KB\n"
     ]
    }
   ],
   "source": [
    "# As the data contains categorical feature due to which if wee perform the analysis directly it will be of no use\n",
    "# And therefore we are performing binary encoding on the categorical columns\n",
    "\n",
    "# For reason for seasons\n",
    "df1 = df.copy()\n",
    "df = df1.copy()\n",
    "\n",
    "df = pd.get_dummies(df, columns=['seasons'], prefix = ['season'], drop_first=True)\n",
    "\n",
    "# For reason_for_absence\n",
    "df = pd.get_dummies(df, columns=['reason_for_absence'], prefix = ['reason_for_absence'], drop_first=True)\n",
    "\n",
    "# month_of_absence\n",
    "df = pd.get_dummies(df, columns=['month_of_absence'], prefix = ['month_of_absence'],  drop_first=True)\n",
    "\n",
    "# day_of_the_week\n",
    "df = pd.get_dummies(df, columns=['day_of_the_week'], prefix = ['day_of_the_week'], drop_first=True)\n",
    "\n",
    "\n",
    "df.info()\n"
   ]
  },
  {
   "cell_type": "code",
   "execution_count": 11,
   "metadata": {},
   "outputs": [],
   "source": [
    "#fig, ax = plt.subplots(figsize=(20, 20)) \n",
    "#sns.heatmap(df.corr(), annot = True, ax = ax)"
   ]
  },
  {
   "cell_type": "code",
   "execution_count": 12,
   "metadata": {},
   "outputs": [
    {
     "data": {
      "text/plain": [
       "<seaborn.axisgrid.FacetGrid at 0x141c5175cf8>"
      ]
     },
     "execution_count": 12,
     "metadata": {},
     "output_type": "execute_result"
    },
    {
     "data": {
      "image/png": "[encoded data removed]",
      "text/plain": [
       "<Figure size 360x360 with 1 Axes>"
      ]
     },
     "metadata": {
      "needs_background": "light"
     },
     "output_type": "display_data"
    }
   ],
   "source": [
    "# From the above heatmap we can obeserve the strong correlated atributes\n",
    "# Positive : [age,service_time] , [body_mass_index,service_time], [body_mas_index, age], [pet, transportation_expense]\n",
    "# Negative : [hit_target, month_of_absense], [pet, service_time], [disciplinary_failure, reason_for_absense]\n",
    "# Plotting the above attributes\n",
    "\n",
    "sns.lmplot(x='age', y='service_time', data=df, fit_reg=True)\n"
   ]
  },
  {
   "cell_type": "code",
   "execution_count": 13,
   "metadata": {},
   "outputs": [
    {
     "data": {
      "text/plain": [
       "<seaborn.axisgrid.FacetGrid at 0x141c51757b8>"
      ]
     },
     "execution_count": 13,
     "metadata": {},
     "output_type": "execute_result"
    },
    {
     "data": {
      "image/png": "[encoded data removed]",
      "text/plain": [
       "<Figure size 360x360 with 1 Axes>"
      ]
     },
     "metadata": {
      "needs_background": "light"
     },
     "output_type": "display_data"
    }
   ],
   "source": [
    "\n",
    "sns.lmplot(x='body_mass_index', y='service_time', data=df, fit_reg=True)\n"
   ]
  },
  {
   "cell_type": "code",
   "execution_count": 14,
   "metadata": {},
   "outputs": [
    {
     "data": {
      "text/plain": [
       "<seaborn.axisgrid.FacetGrid at 0x141c54fd940>"
      ]
     },
     "execution_count": 14,
     "metadata": {},
     "output_type": "execute_result"
    },
    {
     "data": {
      "image/png": "[encoded data removed]",
      "text/plain": [
       "<Figure size 360x360 with 1 Axes>"
      ]
     },
     "metadata": {
      "needs_background": "light"
     },
     "output_type": "display_data"
    }
   ],
   "source": [
    "sns.lmplot(x='age', y='body_mass_index', data=df, fit_reg=True)\n"
   ]
  },
  {
   "cell_type": "code",
   "execution_count": 15,
   "metadata": {},
   "outputs": [
    {
     "data": {
      "text/plain": [
       "<seaborn.axisgrid.FacetGrid at 0x141c556a1d0>"
      ]
     },
     "execution_count": 15,
     "metadata": {},
     "output_type": "execute_result"
    },
    {
     "data": {
      "image/png": "[encoded data removed]",
      "text/plain": [
       "<Figure size 360x360 with 1 Axes>"
      ]
     },
     "metadata": {
      "needs_background": "light"
     },
     "output_type": "display_data"
    }
   ],
   "source": [
    "sns.lmplot(x='pet', y='transportation_expense', data=df, fit_reg=True)\n"
   ]
  },
  {
   "cell_type": "code",
   "execution_count": 16,
   "metadata": {},
   "outputs": [
    {
     "data": {
      "text/plain": [
       "<seaborn.axisgrid.FacetGrid at 0x141c560b550>"
      ]
     },
     "execution_count": 16,
     "metadata": {},
     "output_type": "execute_result"
    },
    {
     "data": {
      "image/png": "[encoded data removed]",
      "text/plain": [
       "<Figure size 360x360 with 1 Axes>"
      ]
     },
     "metadata": {
      "needs_background": "light"
     },
     "output_type": "display_data"
    }
   ],
   "source": [
    "sns.lmplot(x='pet', y='service_time', data=df, fit_reg=True)"
   ]
  },
  {
   "cell_type": "code",
   "execution_count": 17,
   "metadata": {},
   "outputs": [],
   "source": [
    "y = df['absenteeism_time_in_hours']\n",
    "X = df.drop(['absenteeism_time_in_hours'], axis=1)"
   ]
  },
  {
   "cell_type": "code",
   "execution_count": 18,
   "metadata": {},
   "outputs": [
    {
     "data": {
      "text/html": [
       "<div>\n",
       "<style scoped>\n",
       "    .dataframe tbody tr th:only-of-type {\n",
       "        vertical-align: middle;\n",
       "    }\n",
       "\n",
       "    .dataframe tbody tr th {\n",
       "        vertical-align: top;\n",
       "    }\n",
       "\n",
       "    .dataframe thead th {\n",
       "        text-align: right;\n",
       "    }\n",
       "</style>\n",
       "<table border=\"1\" class=\"dataframe\">\n",
       "  <thead>\n",
       "    <tr style=\"text-align: right;\">\n",
       "      <th></th>\n",
       "      <th>id</th>\n",
       "      <th>transportation_expense</th>\n",
       "      <th>distance_from_residence_to_work</th>\n",
       "      <th>service_time</th>\n",
       "      <th>age</th>\n",
       "      <th>work_load_average/day</th>\n",
       "      <th>hit_target</th>\n",
       "      <th>disciplinary_failure</th>\n",
       "      <th>education</th>\n",
       "      <th>son</th>\n",
       "      <th>...</th>\n",
       "      <th>month_of_absence_7</th>\n",
       "      <th>month_of_absence_8</th>\n",
       "      <th>month_of_absence_9</th>\n",
       "      <th>month_of_absence_10</th>\n",
       "      <th>month_of_absence_11</th>\n",
       "      <th>month_of_absence_12</th>\n",
       "      <th>day_of_the_week_3</th>\n",
       "      <th>day_of_the_week_4</th>\n",
       "      <th>day_of_the_week_5</th>\n",
       "      <th>day_of_the_week_6</th>\n",
       "    </tr>\n",
       "  </thead>\n",
       "  <tbody>\n",
       "    <tr>\n",
       "      <th>count</th>\n",
       "      <td>709.000000</td>\n",
       "      <td>709.000000</td>\n",
       "      <td>709.000000</td>\n",
       "      <td>709.000000</td>\n",
       "      <td>709.000000</td>\n",
       "      <td>709.000000</td>\n",
       "      <td>709.000000</td>\n",
       "      <td>709.000000</td>\n",
       "      <td>709.000000</td>\n",
       "      <td>709.000000</td>\n",
       "      <td>...</td>\n",
       "      <td>709.000000</td>\n",
       "      <td>709.000000</td>\n",
       "      <td>709.000000</td>\n",
       "      <td>709.000000</td>\n",
       "      <td>709.000000</td>\n",
       "      <td>709.000000</td>\n",
       "      <td>709.000000</td>\n",
       "      <td>709.000000</td>\n",
       "      <td>709.000000</td>\n",
       "      <td>709.000000</td>\n",
       "    </tr>\n",
       "    <tr>\n",
       "      <th>mean</th>\n",
       "      <td>0.485593</td>\n",
       "      <td>0.383811</td>\n",
       "      <td>0.528254</td>\n",
       "      <td>0.411999</td>\n",
       "      <td>0.301379</td>\n",
       "      <td>0.378401</td>\n",
       "      <td>0.715017</td>\n",
       "      <td>0.056417</td>\n",
       "      <td>0.100141</td>\n",
       "      <td>0.250000</td>\n",
       "      <td>...</td>\n",
       "      <td>0.087447</td>\n",
       "      <td>0.074753</td>\n",
       "      <td>0.070522</td>\n",
       "      <td>0.098731</td>\n",
       "      <td>0.084626</td>\n",
       "      <td>0.063470</td>\n",
       "      <td>0.205924</td>\n",
       "      <td>0.212976</td>\n",
       "      <td>0.176305</td>\n",
       "      <td>0.197461</td>\n",
       "    </tr>\n",
       "    <tr>\n",
       "      <th>std</th>\n",
       "      <td>0.316445</td>\n",
       "      <td>0.246631</td>\n",
       "      <td>0.316062</td>\n",
       "      <td>0.158282</td>\n",
       "      <td>0.206537</td>\n",
       "      <td>0.225680</td>\n",
       "      <td>0.197129</td>\n",
       "      <td>0.230889</td>\n",
       "      <td>0.227230</td>\n",
       "      <td>0.274248</td>\n",
       "      <td>...</td>\n",
       "      <td>0.282689</td>\n",
       "      <td>0.263178</td>\n",
       "      <td>0.256205</td>\n",
       "      <td>0.298511</td>\n",
       "      <td>0.278521</td>\n",
       "      <td>0.243978</td>\n",
       "      <td>0.404661</td>\n",
       "      <td>0.409700</td>\n",
       "      <td>0.381348</td>\n",
       "      <td>0.398364</td>\n",
       "    </tr>\n",
       "    <tr>\n",
       "      <th>min</th>\n",
       "      <td>0.000000</td>\n",
       "      <td>0.000000</td>\n",
       "      <td>0.000000</td>\n",
       "      <td>0.000000</td>\n",
       "      <td>0.000000</td>\n",
       "      <td>0.000000</td>\n",
       "      <td>0.000000</td>\n",
       "      <td>0.000000</td>\n",
       "      <td>0.000000</td>\n",
       "      <td>0.000000</td>\n",
       "      <td>...</td>\n",
       "      <td>0.000000</td>\n",
       "      <td>0.000000</td>\n",
       "      <td>0.000000</td>\n",
       "      <td>0.000000</td>\n",
       "      <td>0.000000</td>\n",
       "      <td>0.000000</td>\n",
       "      <td>0.000000</td>\n",
       "      <td>0.000000</td>\n",
       "      <td>0.000000</td>\n",
       "      <td>0.000000</td>\n",
       "    </tr>\n",
       "    <tr>\n",
       "      <th>25%</th>\n",
       "      <td>0.228571</td>\n",
       "      <td>0.225926</td>\n",
       "      <td>0.234043</td>\n",
       "      <td>0.285714</td>\n",
       "      <td>0.129032</td>\n",
       "      <td>0.222412</td>\n",
       "      <td>0.631579</td>\n",
       "      <td>0.000000</td>\n",
       "      <td>0.000000</td>\n",
       "      <td>0.000000</td>\n",
       "      <td>...</td>\n",
       "      <td>0.000000</td>\n",
       "      <td>0.000000</td>\n",
       "      <td>0.000000</td>\n",
       "      <td>0.000000</td>\n",
       "      <td>0.000000</td>\n",
       "      <td>0.000000</td>\n",
       "      <td>0.000000</td>\n",
       "      <td>0.000000</td>\n",
       "      <td>0.000000</td>\n",
       "      <td>0.000000</td>\n",
       "    </tr>\n",
       "    <tr>\n",
       "      <th>50%</th>\n",
       "      <td>0.485714</td>\n",
       "      <td>0.396296</td>\n",
       "      <td>0.446809</td>\n",
       "      <td>0.428571</td>\n",
       "      <td>0.322581</td>\n",
       "      <td>0.337244</td>\n",
       "      <td>0.736842</td>\n",
       "      <td>0.000000</td>\n",
       "      <td>0.000000</td>\n",
       "      <td>0.250000</td>\n",
       "      <td>...</td>\n",
       "      <td>0.000000</td>\n",
       "      <td>0.000000</td>\n",
       "      <td>0.000000</td>\n",
       "      <td>0.000000</td>\n",
       "      <td>0.000000</td>\n",
       "      <td>0.000000</td>\n",
       "      <td>0.000000</td>\n",
       "      <td>0.000000</td>\n",
       "      <td>0.000000</td>\n",
       "      <td>0.000000</td>\n",
       "    </tr>\n",
       "    <tr>\n",
       "      <th>75%</th>\n",
       "      <td>0.771429</td>\n",
       "      <td>0.525926</td>\n",
       "      <td>0.957447</td>\n",
       "      <td>0.535714</td>\n",
       "      <td>0.419355</td>\n",
       "      <td>0.456365</td>\n",
       "      <td>0.842105</td>\n",
       "      <td>0.000000</td>\n",
       "      <td>0.000000</td>\n",
       "      <td>0.500000</td>\n",
       "      <td>...</td>\n",
       "      <td>0.000000</td>\n",
       "      <td>0.000000</td>\n",
       "      <td>0.000000</td>\n",
       "      <td>0.000000</td>\n",
       "      <td>0.000000</td>\n",
       "      <td>0.000000</td>\n",
       "      <td>0.000000</td>\n",
       "      <td>0.000000</td>\n",
       "      <td>0.000000</td>\n",
       "      <td>0.000000</td>\n",
       "    </tr>\n",
       "    <tr>\n",
       "      <th>max</th>\n",
       "      <td>1.000000</td>\n",
       "      <td>1.000000</td>\n",
       "      <td>1.000000</td>\n",
       "      <td>1.000000</td>\n",
       "      <td>1.000000</td>\n",
       "      <td>1.000000</td>\n",
       "      <td>1.000000</td>\n",
       "      <td>1.000000</td>\n",
       "      <td>1.000000</td>\n",
       "      <td>1.000000</td>\n",
       "      <td>...</td>\n",
       "      <td>1.000000</td>\n",
       "      <td>1.000000</td>\n",
       "      <td>1.000000</td>\n",
       "      <td>1.000000</td>\n",
       "      <td>1.000000</td>\n",
       "      <td>1.000000</td>\n",
       "      <td>1.000000</td>\n",
       "      <td>1.000000</td>\n",
       "      <td>1.000000</td>\n",
       "      <td>1.000000</td>\n",
       "    </tr>\n",
       "  </tbody>\n",
       "</table>\n",
       "<p>8 rows × 59 columns</p>\n",
       "</div>"
      ],
      "text/plain": [
       "               id  transportation_expense  distance_from_residence_to_work  \\\n",
       "count  709.000000              709.000000                       709.000000   \n",
       "mean     0.485593                0.383811                         0.528254   \n",
       "std      0.316445                0.246631                         0.316062   \n",
       "min      0.000000                0.000000                         0.000000   \n",
       "25%      0.228571                0.225926                         0.234043   \n",
       "50%      0.485714                0.396296                         0.446809   \n",
       "75%      0.771429                0.525926                         0.957447   \n",
       "max      1.000000                1.000000                         1.000000   \n",
       "\n",
       "       service_time         age  work_load_average/day  hit_target  \\\n",
       "count    709.000000  709.000000             709.000000  709.000000   \n",
       "mean       0.411999    0.301379               0.378401    0.715017   \n",
       "std        0.158282    0.206537               0.225680    0.197129   \n",
       "min        0.000000    0.000000               0.000000    0.000000   \n",
       "25%        0.285714    0.129032               0.222412    0.631579   \n",
       "50%        0.428571    0.322581               0.337244    0.736842   \n",
       "75%        0.535714    0.419355               0.456365    0.842105   \n",
       "max        1.000000    1.000000               1.000000    1.000000   \n",
       "\n",
       "       disciplinary_failure   education         son  ...  month_of_absence_7  \\\n",
       "count            709.000000  709.000000  709.000000  ...          709.000000   \n",
       "mean               0.056417    0.100141    0.250000  ...            0.087447   \n",
       "std                0.230889    0.227230    0.274248  ...            0.282689   \n",
       "min                0.000000    0.000000    0.000000  ...            0.000000   \n",
       "25%                0.000000    0.000000    0.000000  ...            0.000000   \n",
       "50%                0.000000    0.000000    0.250000  ...            0.000000   \n",
       "75%                0.000000    0.000000    0.500000  ...            0.000000   \n",
       "max                1.000000    1.000000    1.000000  ...            1.000000   \n",
       "\n",
       "       month_of_absence_8  month_of_absence_9  month_of_absence_10  \\\n",
       "count          709.000000          709.000000           709.000000   \n",
       "mean             0.074753            0.070522             0.098731   \n",
       "std              0.263178            0.256205             0.298511   \n",
       "min              0.000000            0.000000             0.000000   \n",
       "25%              0.000000            0.000000             0.000000   \n",
       "50%              0.000000            0.000000             0.000000   \n",
       "75%              0.000000            0.000000             0.000000   \n",
       "max              1.000000            1.000000             1.000000   \n",
       "\n",
       "       month_of_absence_11  month_of_absence_12  day_of_the_week_3  \\\n",
       "count           709.000000           709.000000         709.000000   \n",
       "mean              0.084626             0.063470           0.205924   \n",
       "std               0.278521             0.243978           0.404661   \n",
       "min               0.000000             0.000000           0.000000   \n",
       "25%               0.000000             0.000000           0.000000   \n",
       "50%               0.000000             0.000000           0.000000   \n",
       "75%               0.000000             0.000000           0.000000   \n",
       "max               1.000000             1.000000           1.000000   \n",
       "\n",
       "       day_of_the_week_4  day_of_the_week_5  day_of_the_week_6  \n",
       "count         709.000000         709.000000         709.000000  \n",
       "mean            0.212976           0.176305           0.197461  \n",
       "std             0.409700           0.381348           0.398364  \n",
       "min             0.000000           0.000000           0.000000  \n",
       "25%             0.000000           0.000000           0.000000  \n",
       "50%             0.000000           0.000000           0.000000  \n",
       "75%             0.000000           0.000000           0.000000  \n",
       "max             1.000000           1.000000           1.000000  \n",
       "\n",
       "[8 rows x 59 columns]"
      ]
     },
     "execution_count": 18,
     "metadata": {},
     "output_type": "execute_result"
    }
   ],
   "source": [
    "# Min Max Scaler is used after an heuristic approach. It was choosen as it exhibited higher accuracy than it's counter parts.\n",
    "\n",
    "# Feature Scaling\n",
    "x = X.values\n",
    "min_max_scaler = preprocessing.MinMaxScaler()\n",
    "x_scaled = min_max_scaler.fit_transform(x)\n",
    "X = pd.DataFrame(x_scaled,columns=list(X.columns))\n",
    "\n",
    "X.describe()"
   ]
  },
  {
   "cell_type": "code",
   "execution_count": 20,
   "metadata": {},
   "outputs": [
    {
     "name": "stdout",
     "output_type": "stream",
     "text": [
      "\n",
      "X_train:\n",
      "\n",
      "           id  transportation_expense  distance_from_residence_to_work  \\\n",
      "689  0.571429                0.555556                         0.127660   \n",
      "129  0.285714                0.633333                         0.659574   \n",
      "49   0.771429                0.396296                         0.446809   \n",
      "92   0.400000                0.640741                         0.553191   \n",
      "246  0.542857                0.525926                         0.957447   \n",
      "\n",
      "     service_time       age  work_load_average/day  hit_target  \\\n",
      "689      0.250000  0.193548               0.399914    0.789474   \n",
      "129      0.428571  0.193548               0.593616    0.736842   \n",
      "49       0.285714  0.032258               0.205583    0.578947   \n",
      "92       0.392857  0.419355               0.580619    0.631579   \n",
      "246      0.357143  0.290323               0.345141    0.684211   \n",
      "\n",
      "     disciplinary_failure  education   son  ...  month_of_absence_7  \\\n",
      "689                   1.0   0.333333  0.00  ...                 0.0   \n",
      "129                   0.0   0.000000  0.50  ...                 0.0   \n",
      "49                    0.0   0.000000  0.25  ...                 0.0   \n",
      "92                    0.0   0.000000  0.25  ...                 0.0   \n",
      "246                   0.0   0.000000  1.00  ...                 0.0   \n",
      "\n",
      "     month_of_absence_8  month_of_absence_9  month_of_absence_10  \\\n",
      "689                 0.0                 0.0                  0.0   \n",
      "129                 0.0                 0.0                  0.0   \n",
      "49                  0.0                 1.0                  0.0   \n",
      "92                  0.0                 0.0                  0.0   \n",
      "246                 1.0                 0.0                  0.0   \n",
      "\n",
      "     month_of_absence_11  month_of_absence_12  day_of_the_week_3  \\\n",
      "689                  0.0                  0.0                0.0   \n",
      "129                  0.0                  0.0                0.0   \n",
      "49                   0.0                  0.0                1.0   \n",
      "92                   1.0                  0.0                0.0   \n",
      "246                  0.0                  0.0                0.0   \n",
      "\n",
      "     day_of_the_week_4  day_of_the_week_5  day_of_the_week_6  \n",
      "689                0.0                0.0                0.0  \n",
      "129                0.0                1.0                0.0  \n",
      "49                 0.0                0.0                0.0  \n",
      "92                 0.0                1.0                0.0  \n",
      "246                0.0                0.0                1.0  \n",
      "\n",
      "[5 rows x 59 columns]\n",
      "\n",
      "X_test:\n",
      "\n",
      "           id  transportation_expense  distance_from_residence_to_work  \\\n",
      "411  0.057143                0.225926                         0.978723   \n",
      "80   0.457143                0.225926                         0.361702   \n",
      "593  0.057143                0.225926                         0.978723   \n",
      "71   0.542857                0.525926                         0.957447   \n",
      "513  0.942857                0.000000                         0.106383   \n",
      "\n",
      "     service_time       age  work_load_average/day  hit_target  \\\n",
      "411      0.607143  0.354839               0.232166    0.947368   \n",
      "80       0.571429  0.419355               0.580619    0.631579   \n",
      "593      0.607143  0.354839               0.337244    0.842105   \n",
      "71       0.357143  0.290323               0.274896    0.631579   \n",
      "513      0.321429  0.322581               0.361930    0.631579   \n",
      "\n",
      "     disciplinary_failure  education  son  ...  month_of_absence_7  \\\n",
      "411                   0.0   0.000000  0.0  ...                 0.0   \n",
      "80                    0.0   0.333333  0.5  ...                 0.0   \n",
      "593                   0.0   0.000000  0.0  ...                 0.0   \n",
      "71                    0.0   0.000000  1.0  ...                 0.0   \n",
      "513                   0.0   0.000000  0.0  ...                 0.0   \n",
      "\n",
      "     month_of_absence_8  month_of_absence_9  month_of_absence_10  \\\n",
      "411                 0.0                 0.0                  0.0   \n",
      "80                  0.0                 0.0                  0.0   \n",
      "593                 0.0                 0.0                  0.0   \n",
      "71                  0.0                 0.0                  1.0   \n",
      "513                 0.0                 0.0                  0.0   \n",
      "\n",
      "     month_of_absence_11  month_of_absence_12  day_of_the_week_3  \\\n",
      "411                  0.0                  0.0                0.0   \n",
      "80                   1.0                  0.0                0.0   \n",
      "593                  0.0                  0.0                0.0   \n",
      "71                   0.0                  0.0                0.0   \n",
      "513                  1.0                  0.0                0.0   \n",
      "\n",
      "     day_of_the_week_4  day_of_the_week_5  day_of_the_week_6  \n",
      "411                1.0                0.0                0.0  \n",
      "80                 0.0                1.0                0.0  \n",
      "593                1.0                0.0                0.0  \n",
      "71                 0.0                1.0                0.0  \n",
      "513                1.0                0.0                0.0  \n",
      "\n",
      "[5 rows x 59 columns]\n"
     ]
    }
   ],
   "source": [
    "# Splitting data into train and test data\n",
    "X_train, X_test, y_train, y_test = train_test_split(X, y,test_size=0.3)\n",
    "print( \"\\nX_train:\\n\")\n",
    "X_train.head()\n",
    "#print( X_train.shape)\n",
    "print( \"\\nX_test:\\n\")\n",
    "print(X_test.head())\n",
    "#print( X_test.shape)"
   ]
  },
  {
   "cell_type": "code",
   "execution_count": null,
   "metadata": {},
   "outputs": [],
   "source": []
  }
 ],
 "metadata": {
  "kernelspec": {
   "display_name": "Python 3",
   "language": "python",
   "name": "python3"
  },
  "language_info": {
   "codemirror_mode": {
    "name": "ipython",
    "version": 3
   },
   "file_extension": ".py",
   "mimetype": "text/x-python",
   "name": "python",
   "nbconvert_exporter": "python",
   "pygments_lexer": "ipython3",
   "version": "3.7.3"
  }
 },
 "nbformat": 4,
 "nbformat_minor": 2
}
