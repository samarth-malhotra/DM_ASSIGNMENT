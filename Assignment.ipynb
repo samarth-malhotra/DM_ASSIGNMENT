{
 "cells": [
  {
   "cell_type": "markdown",
   "metadata": {},
   "source": [
    "# Importing Libraries"
   ]
  },
  {
   "cell_type": "code",
   "execution_count": 1,
   "metadata": {
    "scrolled": false
   },
   "outputs": [],
   "source": [
    "import pandas as pd\n",
    "import numpy as np\n",
    "import matplotlib.pyplot as plt\n",
    "import seaborn as sns\n",
    "from sklearn.model_selection import train_test_split\n",
    "from sklearn.preprocessing import OneHotEncoder\n",
    "from sklearn import preprocessing\n",
    "from sklearn.linear_model import LinearRegression\n",
    "from sklearn.metrics import mean_squared_error\n",
    "import matplotlib"
   ]
  },
  {
   "cell_type": "markdown",
   "metadata": {},
   "source": [
    "# Data Acquisition"
   ]
  },
  {
   "cell_type": "code",
   "execution_count": 2,
   "metadata": {
    "scrolled": false
   },
   "outputs": [
    {
     "data": {
      "text/html": [
       "<div>\n",
       "<style scoped>\n",
       "    .dataframe tbody tr th:only-of-type {\n",
       "        vertical-align: middle;\n",
       "    }\n",
       "\n",
       "    .dataframe tbody tr th {\n",
       "        vertical-align: top;\n",
       "    }\n",
       "\n",
       "    .dataframe thead th {\n",
       "        text-align: right;\n",
       "    }\n",
       "</style>\n",
       "<table border=\"1\" class=\"dataframe\">\n",
       "  <thead>\n",
       "    <tr style=\"text-align: right;\">\n",
       "      <th></th>\n",
       "      <th>ID</th>\n",
       "      <th>Reason for absence</th>\n",
       "      <th>Month of absence</th>\n",
       "      <th>Day of the week</th>\n",
       "      <th>Seasons</th>\n",
       "      <th>Transportation expense</th>\n",
       "      <th>Distance from Residence to Work</th>\n",
       "      <th>Service time</th>\n",
       "      <th>Age</th>\n",
       "      <th>Work load Average/day</th>\n",
       "      <th>...</th>\n",
       "      <th>Disciplinary failure</th>\n",
       "      <th>Education</th>\n",
       "      <th>Son</th>\n",
       "      <th>Social drinker</th>\n",
       "      <th>Social smoker</th>\n",
       "      <th>Pet</th>\n",
       "      <th>Weight</th>\n",
       "      <th>Height</th>\n",
       "      <th>Body mass index</th>\n",
       "      <th>Absenteeism time in hours</th>\n",
       "    </tr>\n",
       "  </thead>\n",
       "  <tbody>\n",
       "    <tr>\n",
       "      <th>0</th>\n",
       "      <td>11</td>\n",
       "      <td>26</td>\n",
       "      <td>7</td>\n",
       "      <td>3</td>\n",
       "      <td>1</td>\n",
       "      <td>289</td>\n",
       "      <td>36</td>\n",
       "      <td>13</td>\n",
       "      <td>33</td>\n",
       "      <td>239.554</td>\n",
       "      <td>...</td>\n",
       "      <td>0</td>\n",
       "      <td>1</td>\n",
       "      <td>2</td>\n",
       "      <td>1</td>\n",
       "      <td>0</td>\n",
       "      <td>1</td>\n",
       "      <td>90</td>\n",
       "      <td>172</td>\n",
       "      <td>30</td>\n",
       "      <td>4</td>\n",
       "    </tr>\n",
       "    <tr>\n",
       "      <th>1</th>\n",
       "      <td>36</td>\n",
       "      <td>0</td>\n",
       "      <td>7</td>\n",
       "      <td>3</td>\n",
       "      <td>1</td>\n",
       "      <td>118</td>\n",
       "      <td>13</td>\n",
       "      <td>18</td>\n",
       "      <td>50</td>\n",
       "      <td>239.554</td>\n",
       "      <td>...</td>\n",
       "      <td>1</td>\n",
       "      <td>1</td>\n",
       "      <td>1</td>\n",
       "      <td>1</td>\n",
       "      <td>0</td>\n",
       "      <td>0</td>\n",
       "      <td>98</td>\n",
       "      <td>178</td>\n",
       "      <td>31</td>\n",
       "      <td>0</td>\n",
       "    </tr>\n",
       "    <tr>\n",
       "      <th>2</th>\n",
       "      <td>3</td>\n",
       "      <td>23</td>\n",
       "      <td>7</td>\n",
       "      <td>4</td>\n",
       "      <td>1</td>\n",
       "      <td>179</td>\n",
       "      <td>51</td>\n",
       "      <td>18</td>\n",
       "      <td>38</td>\n",
       "      <td>239.554</td>\n",
       "      <td>...</td>\n",
       "      <td>0</td>\n",
       "      <td>1</td>\n",
       "      <td>0</td>\n",
       "      <td>1</td>\n",
       "      <td>0</td>\n",
       "      <td>0</td>\n",
       "      <td>89</td>\n",
       "      <td>170</td>\n",
       "      <td>31</td>\n",
       "      <td>2</td>\n",
       "    </tr>\n",
       "    <tr>\n",
       "      <th>3</th>\n",
       "      <td>7</td>\n",
       "      <td>7</td>\n",
       "      <td>7</td>\n",
       "      <td>5</td>\n",
       "      <td>1</td>\n",
       "      <td>279</td>\n",
       "      <td>5</td>\n",
       "      <td>14</td>\n",
       "      <td>39</td>\n",
       "      <td>239.554</td>\n",
       "      <td>...</td>\n",
       "      <td>0</td>\n",
       "      <td>1</td>\n",
       "      <td>2</td>\n",
       "      <td>1</td>\n",
       "      <td>1</td>\n",
       "      <td>0</td>\n",
       "      <td>68</td>\n",
       "      <td>168</td>\n",
       "      <td>24</td>\n",
       "      <td>4</td>\n",
       "    </tr>\n",
       "    <tr>\n",
       "      <th>4</th>\n",
       "      <td>11</td>\n",
       "      <td>23</td>\n",
       "      <td>7</td>\n",
       "      <td>5</td>\n",
       "      <td>1</td>\n",
       "      <td>289</td>\n",
       "      <td>36</td>\n",
       "      <td>13</td>\n",
       "      <td>33</td>\n",
       "      <td>239.554</td>\n",
       "      <td>...</td>\n",
       "      <td>0</td>\n",
       "      <td>1</td>\n",
       "      <td>2</td>\n",
       "      <td>1</td>\n",
       "      <td>0</td>\n",
       "      <td>1</td>\n",
       "      <td>90</td>\n",
       "      <td>172</td>\n",
       "      <td>30</td>\n",
       "      <td>2</td>\n",
       "    </tr>\n",
       "  </tbody>\n",
       "</table>\n",
       "<p>5 rows × 21 columns</p>\n",
       "</div>"
      ],
      "text/plain": [
       "   ID  Reason for absence  Month of absence  Day of the week  Seasons  \\\n",
       "0  11                  26                 7                3        1   \n",
       "1  36                   0                 7                3        1   \n",
       "2   3                  23                 7                4        1   \n",
       "3   7                   7                 7                5        1   \n",
       "4  11                  23                 7                5        1   \n",
       "\n",
       "   Transportation expense  Distance from Residence to Work  Service time  Age  \\\n",
       "0                     289                               36            13   33   \n",
       "1                     118                               13            18   50   \n",
       "2                     179                               51            18   38   \n",
       "3                     279                                5            14   39   \n",
       "4                     289                               36            13   33   \n",
       "\n",
       "   Work load Average/day   ...  Disciplinary failure  Education  Son  \\\n",
       "0                 239.554  ...                     0          1    2   \n",
       "1                 239.554  ...                     1          1    1   \n",
       "2                 239.554  ...                     0          1    0   \n",
       "3                 239.554  ...                     0          1    2   \n",
       "4                 239.554  ...                     0          1    2   \n",
       "\n",
       "   Social drinker  Social smoker  Pet  Weight  Height  Body mass index  \\\n",
       "0               1              0    1      90     172               30   \n",
       "1               1              0    0      98     178               31   \n",
       "2               1              0    0      89     170               31   \n",
       "3               1              1    0      68     168               24   \n",
       "4               1              0    1      90     172               30   \n",
       "\n",
       "   Absenteeism time in hours  \n",
       "0                          4  \n",
       "1                          0  \n",
       "2                          2  \n",
       "3                          4  \n",
       "4                          2  \n",
       "\n",
       "[5 rows x 21 columns]"
      ]
     },
     "execution_count": 2,
     "metadata": {},
     "output_type": "execute_result"
    }
   ],
   "source": [
    "# Reading data from CSV files\n",
    "df = pd.read_csv(\"Absenteeism_at_work.csv\", sep=';') \n",
    "df.head()"
   ]
  },
  {
   "cell_type": "code",
   "execution_count": 3,
   "metadata": {
    "scrolled": false
   },
   "outputs": [],
   "source": [
    "# Formatting columns names to replace spaces with underscore for easier reference\n",
    "df.columns = df.columns.str.strip().str.lower().str.replace(\" \",\"_\")"
   ]
  },
  {
   "cell_type": "code",
   "execution_count": 4,
   "metadata": {
    "scrolled": false
   },
   "outputs": [
    {
     "data": {
      "text/html": [
       "<div>\n",
       "<style scoped>\n",
       "    .dataframe tbody tr th:only-of-type {\n",
       "        vertical-align: middle;\n",
       "    }\n",
       "\n",
       "    .dataframe tbody tr th {\n",
       "        vertical-align: top;\n",
       "    }\n",
       "\n",
       "    .dataframe thead th {\n",
       "        text-align: right;\n",
       "    }\n",
       "</style>\n",
       "<table border=\"1\" class=\"dataframe\">\n",
       "  <thead>\n",
       "    <tr style=\"text-align: right;\">\n",
       "      <th></th>\n",
       "      <th>id</th>\n",
       "      <th>reason_for_absence</th>\n",
       "      <th>month_of_absence</th>\n",
       "      <th>day_of_the_week</th>\n",
       "      <th>seasons</th>\n",
       "      <th>transportation_expense</th>\n",
       "      <th>distance_from_residence_to_work</th>\n",
       "      <th>service_time</th>\n",
       "      <th>age</th>\n",
       "      <th>work_load_average/day</th>\n",
       "      <th>...</th>\n",
       "      <th>disciplinary_failure</th>\n",
       "      <th>education</th>\n",
       "      <th>son</th>\n",
       "      <th>social_drinker</th>\n",
       "      <th>social_smoker</th>\n",
       "      <th>pet</th>\n",
       "      <th>weight</th>\n",
       "      <th>height</th>\n",
       "      <th>body_mass_index</th>\n",
       "      <th>absenteeism_time_in_hours</th>\n",
       "    </tr>\n",
       "  </thead>\n",
       "  <tbody>\n",
       "    <tr>\n",
       "      <th>count</th>\n",
       "      <td>740.000000</td>\n",
       "      <td>740.000000</td>\n",
       "      <td>740.000000</td>\n",
       "      <td>740.000000</td>\n",
       "      <td>740.000000</td>\n",
       "      <td>740.000000</td>\n",
       "      <td>740.000000</td>\n",
       "      <td>740.000000</td>\n",
       "      <td>740.000000</td>\n",
       "      <td>740.000000</td>\n",
       "      <td>...</td>\n",
       "      <td>740.000000</td>\n",
       "      <td>740.000000</td>\n",
       "      <td>740.000000</td>\n",
       "      <td>740.000000</td>\n",
       "      <td>740.000000</td>\n",
       "      <td>740.000000</td>\n",
       "      <td>740.000000</td>\n",
       "      <td>740.000000</td>\n",
       "      <td>740.000000</td>\n",
       "      <td>740.000000</td>\n",
       "    </tr>\n",
       "    <tr>\n",
       "      <th>mean</th>\n",
       "      <td>18.017568</td>\n",
       "      <td>19.216216</td>\n",
       "      <td>6.324324</td>\n",
       "      <td>3.914865</td>\n",
       "      <td>2.544595</td>\n",
       "      <td>221.329730</td>\n",
       "      <td>29.631081</td>\n",
       "      <td>12.554054</td>\n",
       "      <td>36.450000</td>\n",
       "      <td>271.490235</td>\n",
       "      <td>...</td>\n",
       "      <td>0.054054</td>\n",
       "      <td>1.291892</td>\n",
       "      <td>1.018919</td>\n",
       "      <td>0.567568</td>\n",
       "      <td>0.072973</td>\n",
       "      <td>0.745946</td>\n",
       "      <td>79.035135</td>\n",
       "      <td>172.114865</td>\n",
       "      <td>26.677027</td>\n",
       "      <td>6.924324</td>\n",
       "    </tr>\n",
       "    <tr>\n",
       "      <th>std</th>\n",
       "      <td>11.021247</td>\n",
       "      <td>8.433406</td>\n",
       "      <td>3.436287</td>\n",
       "      <td>1.421675</td>\n",
       "      <td>1.111831</td>\n",
       "      <td>66.952223</td>\n",
       "      <td>14.836788</td>\n",
       "      <td>4.384873</td>\n",
       "      <td>6.478772</td>\n",
       "      <td>39.058116</td>\n",
       "      <td>...</td>\n",
       "      <td>0.226277</td>\n",
       "      <td>0.673238</td>\n",
       "      <td>1.098489</td>\n",
       "      <td>0.495749</td>\n",
       "      <td>0.260268</td>\n",
       "      <td>1.318258</td>\n",
       "      <td>12.883211</td>\n",
       "      <td>6.034995</td>\n",
       "      <td>4.285452</td>\n",
       "      <td>13.330998</td>\n",
       "    </tr>\n",
       "    <tr>\n",
       "      <th>min</th>\n",
       "      <td>1.000000</td>\n",
       "      <td>0.000000</td>\n",
       "      <td>0.000000</td>\n",
       "      <td>2.000000</td>\n",
       "      <td>1.000000</td>\n",
       "      <td>118.000000</td>\n",
       "      <td>5.000000</td>\n",
       "      <td>1.000000</td>\n",
       "      <td>27.000000</td>\n",
       "      <td>205.917000</td>\n",
       "      <td>...</td>\n",
       "      <td>0.000000</td>\n",
       "      <td>1.000000</td>\n",
       "      <td>0.000000</td>\n",
       "      <td>0.000000</td>\n",
       "      <td>0.000000</td>\n",
       "      <td>0.000000</td>\n",
       "      <td>56.000000</td>\n",
       "      <td>163.000000</td>\n",
       "      <td>19.000000</td>\n",
       "      <td>0.000000</td>\n",
       "    </tr>\n",
       "    <tr>\n",
       "      <th>25%</th>\n",
       "      <td>9.000000</td>\n",
       "      <td>13.000000</td>\n",
       "      <td>3.000000</td>\n",
       "      <td>3.000000</td>\n",
       "      <td>2.000000</td>\n",
       "      <td>179.000000</td>\n",
       "      <td>16.000000</td>\n",
       "      <td>9.000000</td>\n",
       "      <td>31.000000</td>\n",
       "      <td>244.387000</td>\n",
       "      <td>...</td>\n",
       "      <td>0.000000</td>\n",
       "      <td>1.000000</td>\n",
       "      <td>0.000000</td>\n",
       "      <td>0.000000</td>\n",
       "      <td>0.000000</td>\n",
       "      <td>0.000000</td>\n",
       "      <td>69.000000</td>\n",
       "      <td>169.000000</td>\n",
       "      <td>24.000000</td>\n",
       "      <td>2.000000</td>\n",
       "    </tr>\n",
       "    <tr>\n",
       "      <th>50%</th>\n",
       "      <td>18.000000</td>\n",
       "      <td>23.000000</td>\n",
       "      <td>6.000000</td>\n",
       "      <td>4.000000</td>\n",
       "      <td>3.000000</td>\n",
       "      <td>225.000000</td>\n",
       "      <td>26.000000</td>\n",
       "      <td>13.000000</td>\n",
       "      <td>37.000000</td>\n",
       "      <td>264.249000</td>\n",
       "      <td>...</td>\n",
       "      <td>0.000000</td>\n",
       "      <td>1.000000</td>\n",
       "      <td>1.000000</td>\n",
       "      <td>1.000000</td>\n",
       "      <td>0.000000</td>\n",
       "      <td>0.000000</td>\n",
       "      <td>83.000000</td>\n",
       "      <td>170.000000</td>\n",
       "      <td>25.000000</td>\n",
       "      <td>3.000000</td>\n",
       "    </tr>\n",
       "    <tr>\n",
       "      <th>75%</th>\n",
       "      <td>28.000000</td>\n",
       "      <td>26.000000</td>\n",
       "      <td>9.000000</td>\n",
       "      <td>5.000000</td>\n",
       "      <td>4.000000</td>\n",
       "      <td>260.000000</td>\n",
       "      <td>50.000000</td>\n",
       "      <td>16.000000</td>\n",
       "      <td>40.000000</td>\n",
       "      <td>294.217000</td>\n",
       "      <td>...</td>\n",
       "      <td>0.000000</td>\n",
       "      <td>1.000000</td>\n",
       "      <td>2.000000</td>\n",
       "      <td>1.000000</td>\n",
       "      <td>0.000000</td>\n",
       "      <td>1.000000</td>\n",
       "      <td>89.000000</td>\n",
       "      <td>172.000000</td>\n",
       "      <td>31.000000</td>\n",
       "      <td>8.000000</td>\n",
       "    </tr>\n",
       "    <tr>\n",
       "      <th>max</th>\n",
       "      <td>36.000000</td>\n",
       "      <td>28.000000</td>\n",
       "      <td>12.000000</td>\n",
       "      <td>6.000000</td>\n",
       "      <td>4.000000</td>\n",
       "      <td>388.000000</td>\n",
       "      <td>52.000000</td>\n",
       "      <td>29.000000</td>\n",
       "      <td>58.000000</td>\n",
       "      <td>378.884000</td>\n",
       "      <td>...</td>\n",
       "      <td>1.000000</td>\n",
       "      <td>4.000000</td>\n",
       "      <td>4.000000</td>\n",
       "      <td>1.000000</td>\n",
       "      <td>1.000000</td>\n",
       "      <td>8.000000</td>\n",
       "      <td>108.000000</td>\n",
       "      <td>196.000000</td>\n",
       "      <td>38.000000</td>\n",
       "      <td>120.000000</td>\n",
       "    </tr>\n",
       "  </tbody>\n",
       "</table>\n",
       "<p>8 rows × 21 columns</p>\n",
       "</div>"
      ],
      "text/plain": [
       "               id  reason_for_absence  month_of_absence  day_of_the_week  \\\n",
       "count  740.000000          740.000000        740.000000       740.000000   \n",
       "mean    18.017568           19.216216          6.324324         3.914865   \n",
       "std     11.021247            8.433406          3.436287         1.421675   \n",
       "min      1.000000            0.000000          0.000000         2.000000   \n",
       "25%      9.000000           13.000000          3.000000         3.000000   \n",
       "50%     18.000000           23.000000          6.000000         4.000000   \n",
       "75%     28.000000           26.000000          9.000000         5.000000   \n",
       "max     36.000000           28.000000         12.000000         6.000000   \n",
       "\n",
       "          seasons  transportation_expense  distance_from_residence_to_work  \\\n",
       "count  740.000000              740.000000                       740.000000   \n",
       "mean     2.544595              221.329730                        29.631081   \n",
       "std      1.111831               66.952223                        14.836788   \n",
       "min      1.000000              118.000000                         5.000000   \n",
       "25%      2.000000              179.000000                        16.000000   \n",
       "50%      3.000000              225.000000                        26.000000   \n",
       "75%      4.000000              260.000000                        50.000000   \n",
       "max      4.000000              388.000000                        52.000000   \n",
       "\n",
       "       service_time         age  work_load_average/day  ...  \\\n",
       "count    740.000000  740.000000             740.000000  ...   \n",
       "mean      12.554054   36.450000             271.490235  ...   \n",
       "std        4.384873    6.478772              39.058116  ...   \n",
       "min        1.000000   27.000000             205.917000  ...   \n",
       "25%        9.000000   31.000000             244.387000  ...   \n",
       "50%       13.000000   37.000000             264.249000  ...   \n",
       "75%       16.000000   40.000000             294.217000  ...   \n",
       "max       29.000000   58.000000             378.884000  ...   \n",
       "\n",
       "       disciplinary_failure   education         son  social_drinker  \\\n",
       "count            740.000000  740.000000  740.000000      740.000000   \n",
       "mean               0.054054    1.291892    1.018919        0.567568   \n",
       "std                0.226277    0.673238    1.098489        0.495749   \n",
       "min                0.000000    1.000000    0.000000        0.000000   \n",
       "25%                0.000000    1.000000    0.000000        0.000000   \n",
       "50%                0.000000    1.000000    1.000000        1.000000   \n",
       "75%                0.000000    1.000000    2.000000        1.000000   \n",
       "max                1.000000    4.000000    4.000000        1.000000   \n",
       "\n",
       "       social_smoker         pet      weight      height  body_mass_index  \\\n",
       "count     740.000000  740.000000  740.000000  740.000000       740.000000   \n",
       "mean        0.072973    0.745946   79.035135  172.114865        26.677027   \n",
       "std         0.260268    1.318258   12.883211    6.034995         4.285452   \n",
       "min         0.000000    0.000000   56.000000  163.000000        19.000000   \n",
       "25%         0.000000    0.000000   69.000000  169.000000        24.000000   \n",
       "50%         0.000000    0.000000   83.000000  170.000000        25.000000   \n",
       "75%         0.000000    1.000000   89.000000  172.000000        31.000000   \n",
       "max         1.000000    8.000000  108.000000  196.000000        38.000000   \n",
       "\n",
       "       absenteeism_time_in_hours  \n",
       "count                 740.000000  \n",
       "mean                    6.924324  \n",
       "std                    13.330998  \n",
       "min                     0.000000  \n",
       "25%                     2.000000  \n",
       "50%                     3.000000  \n",
       "75%                     8.000000  \n",
       "max                   120.000000  \n",
       "\n",
       "[8 rows x 21 columns]"
      ]
     },
     "execution_count": 4,
     "metadata": {},
     "output_type": "execute_result"
    }
   ],
   "source": [
    "# Displaying the central tendancies for the data\n",
    "df.describe(include='all')"
   ]
  },
  {
   "cell_type": "markdown",
   "metadata": {},
   "source": [
    "# Data Preprocessing"
   ]
  },
  {
   "cell_type": "code",
   "execution_count": 5,
   "metadata": {
    "scrolled": false
   },
   "outputs": [
    {
     "data": {
      "text/plain": [
       "id                                 0\n",
       "reason_for_absence                 0\n",
       "month_of_absence                   0\n",
       "day_of_the_week                    0\n",
       "seasons                            0\n",
       "transportation_expense             0\n",
       "distance_from_residence_to_work    0\n",
       "service_time                       0\n",
       "age                                0\n",
       "work_load_average/day              0\n",
       "hit_target                         0\n",
       "disciplinary_failure               0\n",
       "education                          0\n",
       "son                                0\n",
       "social_drinker                     0\n",
       "social_smoker                      0\n",
       "pet                                0\n",
       "weight                             0\n",
       "height                             0\n",
       "body_mass_index                    0\n",
       "absenteeism_time_in_hours          0\n",
       "dtype: int64"
      ]
     },
     "execution_count": 5,
     "metadata": {},
     "output_type": "execute_result"
    }
   ],
   "source": [
    "# checking for null values\n",
    "df.isna().sum()"
   ]
  },
  {
   "cell_type": "markdown",
   "metadata": {},
   "source": [
    "## Outlire - Boxplot"
   ]
  },
  {
   "cell_type": "code",
   "execution_count": 6,
   "metadata": {
    "scrolled": false
   },
   "outputs": [
    {
     "data": {
      "text/plain": [
       "<matplotlib.axes._subplots.AxesSubplot at 0x1d94c294160>"
      ]
     },
     "execution_count": 6,
     "metadata": {},
     "output_type": "execute_result"
    },
    {
     "data": {
      "image/png": "[encoded data removed]",
      "text/plain": [
       "<Figure size 1440x720 with 6 Axes>"
      ]
     },
     "metadata": {
      "needs_background": "light"
     },
     "output_type": "display_data"
    }
   ],
   "source": [
    "fig, axes = plt.subplots(2, 3)\n",
    "fig.set_figheight(10)\n",
    "fig.set_figwidth(20)\n",
    "\n",
    "sns.boxplot(x='transportation_expense', data=df, ax=axes[0][0])\n",
    "sns.boxplot(x='distance_from_residence_to_work', data=df, ax=axes[0][1])\n",
    "sns.boxplot(x='service_time', data=df, ax=axes[0][2])\n",
    "sns.boxplot(x='work_load_average/day', data=df, ax=axes[1][0])\n",
    "sns.boxplot(x='hit_target', data=df, ax=axes[1][1])\n",
    "sns.boxplot(x='absenteeism_time_in_hours', data=df, ax=axes[1][2])"
   ]
  },
  {
   "cell_type": "markdown",
   "metadata": {},
   "source": [
    "## Remove outlires"
   ]
  },
  {
   "cell_type": "code",
   "execution_count": 7,
   "metadata": {
    "scrolled": false
   },
   "outputs": [],
   "source": [
    "# As per the identifications in above box plot, outliers have been idenfied and dropping with below conditions.\n",
    "# 1) absenteeism_time_in_hours => 24\n",
    "# 2) work_load_average/day > 350\n",
    "# 3) hit_target < 85\n",
    "# 4) transportation_expense > 380\n",
    "# 5) service_time > 25\n",
    "\n",
    "df = df.drop(index = df[df.absenteeism_time_in_hours >= 24].index).reset_index(drop=True)\n",
    "df = df.drop(index = df[df['work_load_average/day'] > 350].index).reset_index(drop=True)\n",
    "df = df.drop(index = df[df.hit_target < 85].index).reset_index(drop=True)\n",
    "df = df.drop(index = df[df.transportation_expense > 380].index).reset_index(drop=True)\n",
    "df = df.drop(index = df[df.service_time > 25].index).reset_index(drop=True)"
   ]
  },
  {
   "cell_type": "code",
   "execution_count": 8,
   "metadata": {
    "scrolled": false
   },
   "outputs": [
    {
     "data": {
      "text/plain": [
       "<matplotlib.axes._subplots.AxesSubplot at 0x1d94c3e57f0>"
      ]
     },
     "execution_count": 8,
     "metadata": {},
     "output_type": "execute_result"
    },
    {
     "data": {
      "image/png": "[encoded data removed]",
      "text/plain": [
       "<Figure size 1440x720 with 6 Axes>"
      ]
     },
     "metadata": {
      "needs_background": "light"
     },
     "output_type": "display_data"
    }
   ],
   "source": [
    "fig, axes = plt.subplots(2, 3)\n",
    "fig.set_figheight(10)\n",
    "fig.set_figwidth(20)\n",
    "\n",
    "sns.boxplot(x='transportation_expense', data=df, ax=axes[0][0])\n",
    "sns.boxplot(x='distance_from_residence_to_work', data=df, ax=axes[0][1])\n",
    "sns.boxplot(x='service_time', data=df, ax=axes[0][2])\n",
    "sns.boxplot(x='work_load_average/day', data=df, ax=axes[1][0])\n",
    "sns.boxplot(x='hit_target', data=df, ax=axes[1][1])\n",
    "sns.boxplot(x='absenteeism_time_in_hours', data=df, ax=axes[1][2])\n"
   ]
  },
  {
   "cell_type": "code",
   "execution_count": 9,
   "metadata": {
    "scrolled": false
   },
   "outputs": [
    {
     "data": {
      "text/plain": [
       "(646, 21)"
      ]
     },
     "execution_count": 9,
     "metadata": {},
     "output_type": "execute_result"
    }
   ],
   "source": [
    "# Check dataset\n",
    "df.shape"
   ]
  },
  {
   "cell_type": "markdown",
   "metadata": {},
   "source": [
    "## Data visualization with bar graph"
   ]
  },
  {
   "cell_type": "code",
   "execution_count": 10,
   "metadata": {
    "scrolled": false
   },
   "outputs": [
    {
     "data": {
      "text/plain": [
       "<matplotlib.axes._subplots.AxesSubplot at 0x1d94c698dd8>"
      ]
     },
     "execution_count": 10,
     "metadata": {},
     "output_type": "execute_result"
    },
    {
     "data": {
      "image/png": "[encoded data removed]",
      "text/plain": [
       "<Figure size 1440x2520 with 10 Axes>"
      ]
     },
     "metadata": {
      "needs_background": "light"
     },
     "output_type": "display_data"
    }
   ],
   "source": [
    "fig, axes = plt.subplots(10, 1)\n",
    "fig.set_figheight(35)\n",
    "fig.set_figwidth(20)\n",
    "\n",
    "# For categorical columns\n",
    "sns.barplot(x='month_of_absence',y='absenteeism_time_in_hours',data=df,estimator=np.sum, ax=axes[0])\n",
    "sns.barplot(x='seasons',y='absenteeism_time_in_hours',data=df,estimator=np.sum,ax=axes[1])\n",
    "sns.barplot(x='reason_for_absence',y='absenteeism_time_in_hours',data=df,estimator=np.sum,ax=axes[2])\n",
    "sns.barplot(x='day_of_the_week',y='absenteeism_time_in_hours',data=df,estimator=np.sum, ax=axes[3])\n",
    "sns.barplot(x='education',y='absenteeism_time_in_hours',data=df,estimator=np.sum,ax=axes[4])\n",
    "sns.barplot(x='son',y='absenteeism_time_in_hours',data=df,estimator=np.sum,ax=axes[5])\n",
    "sns.barplot(x='pet',y='absenteeism_time_in_hours',data=df,estimator=np.sum,ax=axes[6])\n",
    "\n",
    "# For boolean columns\n",
    "sns.barplot(x='disciplinary_failure',y='absenteeism_time_in_hours',data=df,estimator=np.sum,ax=axes[7])\n",
    "sns.barplot(x='social_drinker',y='absenteeism_time_in_hours',data=df,estimator=np.sum,ax=axes[8])\n",
    "sns.barplot(x='social_smoker',y='absenteeism_time_in_hours',data=df,estimator=np.sum,ax=axes[9])"
   ]
  },
  {
   "cell_type": "code",
   "execution_count": 11,
   "metadata": {
    "scrolled": false
   },
   "outputs": [],
   "source": [
    "# As the absenteen hour cannot be more than 24 per day thefore removing\n",
    "# The records where hour is more than 24\n",
    "df = df.drop(df[df.absenteeism_time_in_hours > 24].index).reset_index(drop = True)"
   ]
  },
  {
   "cell_type": "code",
   "execution_count": 12,
   "metadata": {
    "scrolled": false
   },
   "outputs": [],
   "source": [
    "# As the data set have months till 12 therefore month 0 is invalid\n",
    "# Therefore removing records for month 0\n",
    "df = df.drop(df[df.month_of_absence == 0].index).reset_index(drop = True)"
   ]
  },
  {
   "cell_type": "code",
   "execution_count": 13,
   "metadata": {
    "scrolled": false
   },
   "outputs": [],
   "source": [
    "# There is no feature in the dataset which can clearly identify duplicate therefore commenting\n",
    "# df = df.drop(df[df.duplicated(subset=None, keep='first')].index).reset_index(drop = True)\n"
   ]
  },
  {
   "cell_type": "code",
   "execution_count": 14,
   "metadata": {
    "scrolled": false
   },
   "outputs": [],
   "source": [
    "# As the dataset has a derived attribute BMI which depends on person's height and weight therefore\n",
    "# We can remove the attributes height and weight\n",
    "df = df.drop(['weight', 'height'], axis=1)"
   ]
  },
  {
   "cell_type": "markdown",
   "metadata": {},
   "source": [
    "## Encoding categorical data"
   ]
  },
  {
   "cell_type": "code",
   "execution_count": 15,
   "metadata": {
    "scrolled": false
   },
   "outputs": [
    {
     "name": "stdout",
     "output_type": "stream",
     "text": [
      "<class 'pandas.core.frame.DataFrame'>\n",
      "RangeIndex: 643 entries, 0 to 642\n",
      "Data columns (total 63 columns):\n",
      "id                                 643 non-null int64\n",
      "transportation_expense             643 non-null int64\n",
      "distance_from_residence_to_work    643 non-null int64\n",
      "service_time                       643 non-null int64\n",
      "age                                643 non-null int64\n",
      "work_load_average/day              643 non-null float64\n",
      "hit_target                         643 non-null int64\n",
      "disciplinary_failure               643 non-null int64\n",
      "education                          643 non-null int64\n",
      "son                                643 non-null int64\n",
      "social_drinker                     643 non-null int64\n",
      "social_smoker                      643 non-null int64\n",
      "pet                                643 non-null int64\n",
      "body_mass_index                    643 non-null int64\n",
      "absenteeism_time_in_hours          643 non-null int64\n",
      "season_1                           643 non-null uint8\n",
      "season_2                           643 non-null uint8\n",
      "season_3                           643 non-null uint8\n",
      "season_4                           643 non-null uint8\n",
      "reason_for_absence_0               643 non-null uint8\n",
      "reason_for_absence_1               643 non-null uint8\n",
      "reason_for_absence_3               643 non-null uint8\n",
      "reason_for_absence_4               643 non-null uint8\n",
      "reason_for_absence_5               643 non-null uint8\n",
      "reason_for_absence_6               643 non-null uint8\n",
      "reason_for_absence_7               643 non-null uint8\n",
      "reason_for_absence_8               643 non-null uint8\n",
      "reason_for_absence_9               643 non-null uint8\n",
      "reason_for_absence_10              643 non-null uint8\n",
      "reason_for_absence_11              643 non-null uint8\n",
      "reason_for_absence_12              643 non-null uint8\n",
      "reason_for_absence_13              643 non-null uint8\n",
      "reason_for_absence_14              643 non-null uint8\n",
      "reason_for_absence_15              643 non-null uint8\n",
      "reason_for_absence_16              643 non-null uint8\n",
      "reason_for_absence_17              643 non-null uint8\n",
      "reason_for_absence_18              643 non-null uint8\n",
      "reason_for_absence_19              643 non-null uint8\n",
      "reason_for_absence_21              643 non-null uint8\n",
      "reason_for_absence_22              643 non-null uint8\n",
      "reason_for_absence_23              643 non-null uint8\n",
      "reason_for_absence_24              643 non-null uint8\n",
      "reason_for_absence_25              643 non-null uint8\n",
      "reason_for_absence_26              643 non-null uint8\n",
      "reason_for_absence_27              643 non-null uint8\n",
      "reason_for_absence_28              643 non-null uint8\n",
      "month_of_absence_1                 643 non-null uint8\n",
      "month_of_absence_2                 643 non-null uint8\n",
      "month_of_absence_3                 643 non-null uint8\n",
      "month_of_absence_4                 643 non-null uint8\n",
      "month_of_absence_5                 643 non-null uint8\n",
      "month_of_absence_6                 643 non-null uint8\n",
      "month_of_absence_7                 643 non-null uint8\n",
      "month_of_absence_8                 643 non-null uint8\n",
      "month_of_absence_9                 643 non-null uint8\n",
      "month_of_absence_10                643 non-null uint8\n",
      "month_of_absence_11                643 non-null uint8\n",
      "month_of_absence_12                643 non-null uint8\n",
      "day_of_the_week_2                  643 non-null uint8\n",
      "day_of_the_week_3                  643 non-null uint8\n",
      "day_of_the_week_4                  643 non-null uint8\n",
      "day_of_the_week_5                  643 non-null uint8\n",
      "day_of_the_week_6                  643 non-null uint8\n",
      "dtypes: float64(1), int64(14), uint8(48)\n",
      "memory usage: 105.6 KB\n"
     ]
    }
   ],
   "source": [
    "# As the data contains categorical feature due to which if wee perform the analysis directly it will be of no use\n",
    "# And therefore we are performing binary encoding on the categorical columns\n",
    "\n",
    "# For reason for seasons\n",
    "df = pd.get_dummies(df, columns=['seasons'], prefix = ['season'])\n",
    "\n",
    "# For reason_for_absence\n",
    "df = pd.get_dummies(df, columns=['reason_for_absence'], prefix = ['reason_for_absence'])\n",
    "\n",
    "# month_of_absence\n",
    "df = pd.get_dummies(df, columns=['month_of_absence'], prefix = ['month_of_absence'])\n",
    "\n",
    "# day_of_the_week\n",
    "df = pd.get_dummies(df, columns=['day_of_the_week'], prefix = ['day_of_the_week'])\n",
    "\n",
    "\n",
    "df.info()"
   ]
  },
  {
   "cell_type": "markdown",
   "metadata": {},
   "source": [
    "# Model Creation"
   ]
  },
  {
   "cell_type": "code",
   "execution_count": 16,
   "metadata": {
    "scrolled": false
   },
   "outputs": [
    {
     "data": {
      "text/plain": [
       "disciplinary_failure              -0.289326\n",
       "reason_for_absence_0              -0.289326\n",
       "reason_for_absence_23             -0.225761\n",
       "reason_for_absence_27             -0.206059\n",
       "reason_for_absence_28             -0.184591\n",
       "id                                -0.149560\n",
       "service_time                      -0.095134\n",
       "age                               -0.094847\n",
       "month_of_absence_9                -0.092760\n",
       "month_of_absence_1                -0.077078\n",
       "season_4                          -0.072641\n",
       "day_of_the_week_6                 -0.064239\n",
       "month_of_absence_2                -0.062553\n",
       "reason_for_absence_25             -0.053679\n",
       "reason_for_absence_16             -0.046241\n",
       "month_of_absence_6                -0.036911\n",
       "body_mass_index                   -0.028559\n",
       "month_of_absence_11               -0.025652\n",
       "season_2                          -0.021324\n",
       "month_of_absence_12               -0.020151\n",
       "month_of_absence_10               -0.013030\n",
       "day_of_the_week_3                 -0.005263\n",
       "day_of_the_week_4                 -0.003174\n",
       "month_of_absence_5                -0.000926\n",
       "distance_from_residence_to_work    0.008509\n",
       "month_of_absence_4                 0.014399\n",
       "day_of_the_week_5                  0.017788\n",
       "education                          0.018380\n",
       "season_3                           0.019070\n",
       "hit_target                         0.023396\n",
       "                                     ...   \n",
       "reason_for_absence_5               0.041110\n",
       "reason_for_absence_17              0.043065\n",
       "reason_for_absence_4               0.043065\n",
       "reason_for_absence_3               0.043065\n",
       "reason_for_absence_9               0.043065\n",
       "reason_for_absence_21              0.043988\n",
       "work_load_average/day              0.048088\n",
       "social_smoker                      0.049353\n",
       "pet                                0.050646\n",
       "reason_for_absence_12              0.051390\n",
       "day_of_the_week_2                  0.055777\n",
       "reason_for_absence_15              0.060951\n",
       "reason_for_absence_14              0.068483\n",
       "reason_for_absence_24              0.074707\n",
       "social_drinker                     0.075754\n",
       "reason_for_absence_11              0.076835\n",
       "season_1                           0.081038\n",
       "reason_for_absence_6               0.092412\n",
       "month_of_absence_3                 0.101001\n",
       "reason_for_absence_13              0.116254\n",
       "reason_for_absence_18              0.128212\n",
       "reason_for_absence_10              0.129659\n",
       "month_of_absence_7                 0.129961\n",
       "reason_for_absence_1               0.156516\n",
       "son                                0.172858\n",
       "reason_for_absence_26              0.199180\n",
       "transportation_expense             0.211210\n",
       "reason_for_absence_19              0.217121\n",
       "reason_for_absence_22              0.239601\n",
       "absenteeism_time_in_hours          1.000000\n",
       "Name: absenteeism_time_in_hours, Length: 63, dtype: float64"
      ]
     },
     "execution_count": 16,
     "metadata": {},
     "output_type": "execute_result"
    }
   ],
   "source": [
    "# Finding out the correlation of different features with Absenteeism in hours\n",
    "df.corr().absenteeism_time_in_hours.sort_values()"
   ]
  },
  {
   "cell_type": "code",
   "execution_count": 17,
   "metadata": {
    "scrolled": false
   },
   "outputs": [
    {
     "name": "stdout",
     "output_type": "stream",
     "text": [
      "<class 'pandas.core.frame.DataFrame'>\n",
      "RangeIndex: 643 entries, 0 to 642\n",
      "Data columns (total 18 columns):\n",
      "id                           643 non-null int64\n",
      "transportation_expense       643 non-null int64\n",
      "disciplinary_failure         643 non-null int64\n",
      "son                          643 non-null int64\n",
      "absenteeism_time_in_hours    643 non-null int64\n",
      "reason_for_absence_0         643 non-null uint8\n",
      "reason_for_absence_1         643 non-null uint8\n",
      "reason_for_absence_10        643 non-null uint8\n",
      "reason_for_absence_13        643 non-null uint8\n",
      "reason_for_absence_18        643 non-null uint8\n",
      "reason_for_absence_19        643 non-null uint8\n",
      "reason_for_absence_22        643 non-null uint8\n",
      "reason_for_absence_23        643 non-null uint8\n",
      "reason_for_absence_26        643 non-null uint8\n",
      "reason_for_absence_27        643 non-null uint8\n",
      "reason_for_absence_28        643 non-null uint8\n",
      "month_of_absence_3           643 non-null uint8\n",
      "month_of_absence_7           643 non-null uint8\n",
      "dtypes: int64(5), uint8(13)\n",
      "memory usage: 33.4 KB\n"
     ]
    }
   ],
   "source": [
    "# Selecting the features with correlation +/- 0.1\n",
    "df = df.loc[:,((df.corr().absenteeism_time_in_hours.sort_values() > 0.1) | (df.corr().absenteeism_time_in_hours.sort_values() < -0.1))]\n",
    "df.info()"
   ]
  },
  {
   "cell_type": "code",
   "execution_count": 18,
   "metadata": {
    "scrolled": false
   },
   "outputs": [],
   "source": [
    "# Diving the data in Dependent and Independent features\n",
    "Y = df[['absenteeism_time_in_hours']]\n",
    "X = df.drop(['absenteeism_time_in_hours', 'id'], axis=1)"
   ]
  },
  {
   "cell_type": "code",
   "execution_count": 19,
   "metadata": {
    "scrolled": false
   },
   "outputs": [
    {
     "name": "stdout",
     "output_type": "stream",
     "text": [
      "\n",
      "X_train:\n",
      "\n",
      "(450, 16)\n"
     ]
    },
    {
     "data": {
      "text/html": [
       "<div>\n",
       "<style scoped>\n",
       "    .dataframe tbody tr th:only-of-type {\n",
       "        vertical-align: middle;\n",
       "    }\n",
       "\n",
       "    .dataframe tbody tr th {\n",
       "        vertical-align: top;\n",
       "    }\n",
       "\n",
       "    .dataframe thead th {\n",
       "        text-align: right;\n",
       "    }\n",
       "</style>\n",
       "<table border=\"1\" class=\"dataframe\">\n",
       "  <thead>\n",
       "    <tr style=\"text-align: right;\">\n",
       "      <th></th>\n",
       "      <th>transportation_expense</th>\n",
       "      <th>disciplinary_failure</th>\n",
       "      <th>son</th>\n",
       "      <th>reason_for_absence_0</th>\n",
       "      <th>reason_for_absence_1</th>\n",
       "      <th>reason_for_absence_10</th>\n",
       "      <th>reason_for_absence_13</th>\n",
       "      <th>reason_for_absence_18</th>\n",
       "      <th>reason_for_absence_19</th>\n",
       "      <th>reason_for_absence_22</th>\n",
       "      <th>reason_for_absence_23</th>\n",
       "      <th>reason_for_absence_26</th>\n",
       "      <th>reason_for_absence_27</th>\n",
       "      <th>reason_for_absence_28</th>\n",
       "      <th>month_of_absence_3</th>\n",
       "      <th>month_of_absence_7</th>\n",
       "    </tr>\n",
       "  </thead>\n",
       "  <tbody>\n",
       "    <tr>\n",
       "      <th>263</th>\n",
       "      <td>260</td>\n",
       "      <td>0</td>\n",
       "      <td>4</td>\n",
       "      <td>0</td>\n",
       "      <td>0</td>\n",
       "      <td>1</td>\n",
       "      <td>0</td>\n",
       "      <td>0</td>\n",
       "      <td>0</td>\n",
       "      <td>0</td>\n",
       "      <td>0</td>\n",
       "      <td>0</td>\n",
       "      <td>0</td>\n",
       "      <td>0</td>\n",
       "      <td>0</td>\n",
       "      <td>0</td>\n",
       "    </tr>\n",
       "    <tr>\n",
       "      <th>276</th>\n",
       "      <td>179</td>\n",
       "      <td>0</td>\n",
       "      <td>0</td>\n",
       "      <td>0</td>\n",
       "      <td>0</td>\n",
       "      <td>0</td>\n",
       "      <td>0</td>\n",
       "      <td>0</td>\n",
       "      <td>0</td>\n",
       "      <td>0</td>\n",
       "      <td>0</td>\n",
       "      <td>0</td>\n",
       "      <td>0</td>\n",
       "      <td>1</td>\n",
       "      <td>0</td>\n",
       "      <td>0</td>\n",
       "    </tr>\n",
       "    <tr>\n",
       "      <th>641</th>\n",
       "      <td>289</td>\n",
       "      <td>0</td>\n",
       "      <td>2</td>\n",
       "      <td>0</td>\n",
       "      <td>0</td>\n",
       "      <td>0</td>\n",
       "      <td>0</td>\n",
       "      <td>0</td>\n",
       "      <td>0</td>\n",
       "      <td>0</td>\n",
       "      <td>0</td>\n",
       "      <td>0</td>\n",
       "      <td>0</td>\n",
       "      <td>0</td>\n",
       "      <td>0</td>\n",
       "      <td>1</td>\n",
       "    </tr>\n",
       "    <tr>\n",
       "      <th>89</th>\n",
       "      <td>248</td>\n",
       "      <td>0</td>\n",
       "      <td>2</td>\n",
       "      <td>0</td>\n",
       "      <td>0</td>\n",
       "      <td>0</td>\n",
       "      <td>0</td>\n",
       "      <td>0</td>\n",
       "      <td>0</td>\n",
       "      <td>0</td>\n",
       "      <td>0</td>\n",
       "      <td>0</td>\n",
       "      <td>0</td>\n",
       "      <td>1</td>\n",
       "      <td>0</td>\n",
       "      <td>0</td>\n",
       "    </tr>\n",
       "    <tr>\n",
       "      <th>17</th>\n",
       "      <td>189</td>\n",
       "      <td>0</td>\n",
       "      <td>2</td>\n",
       "      <td>0</td>\n",
       "      <td>0</td>\n",
       "      <td>0</td>\n",
       "      <td>0</td>\n",
       "      <td>0</td>\n",
       "      <td>0</td>\n",
       "      <td>0</td>\n",
       "      <td>0</td>\n",
       "      <td>0</td>\n",
       "      <td>0</td>\n",
       "      <td>0</td>\n",
       "      <td>0</td>\n",
       "      <td>1</td>\n",
       "    </tr>\n",
       "  </tbody>\n",
       "</table>\n",
       "</div>"
      ],
      "text/plain": [
       "     transportation_expense  disciplinary_failure  son  reason_for_absence_0  \\\n",
       "263                     260                     0    4                     0   \n",
       "276                     179                     0    0                     0   \n",
       "641                     289                     0    2                     0   \n",
       "89                      248                     0    2                     0   \n",
       "17                      189                     0    2                     0   \n",
       "\n",
       "     reason_for_absence_1  reason_for_absence_10  reason_for_absence_13  \\\n",
       "263                     0                      1                      0   \n",
       "276                     0                      0                      0   \n",
       "641                     0                      0                      0   \n",
       "89                      0                      0                      0   \n",
       "17                      0                      0                      0   \n",
       "\n",
       "     reason_for_absence_18  reason_for_absence_19  reason_for_absence_22  \\\n",
       "263                      0                      0                      0   \n",
       "276                      0                      0                      0   \n",
       "641                      0                      0                      0   \n",
       "89                       0                      0                      0   \n",
       "17                       0                      0                      0   \n",
       "\n",
       "     reason_for_absence_23  reason_for_absence_26  reason_for_absence_27  \\\n",
       "263                      0                      0                      0   \n",
       "276                      0                      0                      0   \n",
       "641                      0                      0                      0   \n",
       "89                       0                      0                      0   \n",
       "17                       0                      0                      0   \n",
       "\n",
       "     reason_for_absence_28  month_of_absence_3  month_of_absence_7  \n",
       "263                      0                   0                   0  \n",
       "276                      1                   0                   0  \n",
       "641                      0                   0                   1  \n",
       "89                       1                   0                   0  \n",
       "17                       0                   0                   1  "
      ]
     },
     "execution_count": 19,
     "metadata": {},
     "output_type": "execute_result"
    }
   ],
   "source": [
    "# Splitting data into train and test data\n",
    "X_train, X_test, Y_train, Y_test = train_test_split(X, Y,test_size=0.3)\n",
    "print( \"\\nX_train:\\n\")\n",
    "print( X_train.shape)\n",
    "X_train.head()"
   ]
  },
  {
   "cell_type": "code",
   "execution_count": 20,
   "metadata": {
    "scrolled": false
   },
   "outputs": [
    {
     "name": "stdout",
     "output_type": "stream",
     "text": [
      "\n",
      "X_test:\n",
      "\n",
      "(193, 16)\n"
     ]
    },
    {
     "data": {
      "text/html": [
       "<div>\n",
       "<style scoped>\n",
       "    .dataframe tbody tr th:only-of-type {\n",
       "        vertical-align: middle;\n",
       "    }\n",
       "\n",
       "    .dataframe tbody tr th {\n",
       "        vertical-align: top;\n",
       "    }\n",
       "\n",
       "    .dataframe thead th {\n",
       "        text-align: right;\n",
       "    }\n",
       "</style>\n",
       "<table border=\"1\" class=\"dataframe\">\n",
       "  <thead>\n",
       "    <tr style=\"text-align: right;\">\n",
       "      <th></th>\n",
       "      <th>transportation_expense</th>\n",
       "      <th>disciplinary_failure</th>\n",
       "      <th>son</th>\n",
       "      <th>reason_for_absence_0</th>\n",
       "      <th>reason_for_absence_1</th>\n",
       "      <th>reason_for_absence_10</th>\n",
       "      <th>reason_for_absence_13</th>\n",
       "      <th>reason_for_absence_18</th>\n",
       "      <th>reason_for_absence_19</th>\n",
       "      <th>reason_for_absence_22</th>\n",
       "      <th>reason_for_absence_23</th>\n",
       "      <th>reason_for_absence_26</th>\n",
       "      <th>reason_for_absence_27</th>\n",
       "      <th>reason_for_absence_28</th>\n",
       "      <th>month_of_absence_3</th>\n",
       "      <th>month_of_absence_7</th>\n",
       "    </tr>\n",
       "  </thead>\n",
       "  <tbody>\n",
       "    <tr>\n",
       "      <th>254</th>\n",
       "      <td>330</td>\n",
       "      <td>1</td>\n",
       "      <td>0</td>\n",
       "      <td>1</td>\n",
       "      <td>0</td>\n",
       "      <td>0</td>\n",
       "      <td>0</td>\n",
       "      <td>0</td>\n",
       "      <td>0</td>\n",
       "      <td>0</td>\n",
       "      <td>0</td>\n",
       "      <td>0</td>\n",
       "      <td>0</td>\n",
       "      <td>0</td>\n",
       "      <td>0</td>\n",
       "      <td>0</td>\n",
       "    </tr>\n",
       "    <tr>\n",
       "      <th>533</th>\n",
       "      <td>179</td>\n",
       "      <td>0</td>\n",
       "      <td>0</td>\n",
       "      <td>0</td>\n",
       "      <td>0</td>\n",
       "      <td>0</td>\n",
       "      <td>0</td>\n",
       "      <td>0</td>\n",
       "      <td>0</td>\n",
       "      <td>0</td>\n",
       "      <td>0</td>\n",
       "      <td>0</td>\n",
       "      <td>1</td>\n",
       "      <td>0</td>\n",
       "      <td>1</td>\n",
       "      <td>0</td>\n",
       "    </tr>\n",
       "    <tr>\n",
       "      <th>611</th>\n",
       "      <td>155</td>\n",
       "      <td>0</td>\n",
       "      <td>2</td>\n",
       "      <td>0</td>\n",
       "      <td>0</td>\n",
       "      <td>0</td>\n",
       "      <td>0</td>\n",
       "      <td>0</td>\n",
       "      <td>0</td>\n",
       "      <td>0</td>\n",
       "      <td>1</td>\n",
       "      <td>0</td>\n",
       "      <td>0</td>\n",
       "      <td>0</td>\n",
       "      <td>0</td>\n",
       "      <td>0</td>\n",
       "    </tr>\n",
       "    <tr>\n",
       "      <th>465</th>\n",
       "      <td>118</td>\n",
       "      <td>0</td>\n",
       "      <td>0</td>\n",
       "      <td>0</td>\n",
       "      <td>0</td>\n",
       "      <td>0</td>\n",
       "      <td>0</td>\n",
       "      <td>0</td>\n",
       "      <td>0</td>\n",
       "      <td>0</td>\n",
       "      <td>0</td>\n",
       "      <td>0</td>\n",
       "      <td>0</td>\n",
       "      <td>0</td>\n",
       "      <td>0</td>\n",
       "      <td>0</td>\n",
       "    </tr>\n",
       "    <tr>\n",
       "      <th>370</th>\n",
       "      <td>225</td>\n",
       "      <td>0</td>\n",
       "      <td>1</td>\n",
       "      <td>0</td>\n",
       "      <td>0</td>\n",
       "      <td>0</td>\n",
       "      <td>0</td>\n",
       "      <td>0</td>\n",
       "      <td>0</td>\n",
       "      <td>0</td>\n",
       "      <td>1</td>\n",
       "      <td>0</td>\n",
       "      <td>0</td>\n",
       "      <td>0</td>\n",
       "      <td>0</td>\n",
       "      <td>0</td>\n",
       "    </tr>\n",
       "  </tbody>\n",
       "</table>\n",
       "</div>"
      ],
      "text/plain": [
       "     transportation_expense  disciplinary_failure  son  reason_for_absence_0  \\\n",
       "254                     330                     1    0                     1   \n",
       "533                     179                     0    0                     0   \n",
       "611                     155                     0    2                     0   \n",
       "465                     118                     0    0                     0   \n",
       "370                     225                     0    1                     0   \n",
       "\n",
       "     reason_for_absence_1  reason_for_absence_10  reason_for_absence_13  \\\n",
       "254                     0                      0                      0   \n",
       "533                     0                      0                      0   \n",
       "611                     0                      0                      0   \n",
       "465                     0                      0                      0   \n",
       "370                     0                      0                      0   \n",
       "\n",
       "     reason_for_absence_18  reason_for_absence_19  reason_for_absence_22  \\\n",
       "254                      0                      0                      0   \n",
       "533                      0                      0                      0   \n",
       "611                      0                      0                      0   \n",
       "465                      0                      0                      0   \n",
       "370                      0                      0                      0   \n",
       "\n",
       "     reason_for_absence_23  reason_for_absence_26  reason_for_absence_27  \\\n",
       "254                      0                      0                      0   \n",
       "533                      0                      0                      1   \n",
       "611                      1                      0                      0   \n",
       "465                      0                      0                      0   \n",
       "370                      1                      0                      0   \n",
       "\n",
       "     reason_for_absence_28  month_of_absence_3  month_of_absence_7  \n",
       "254                      0                   0                   0  \n",
       "533                      0                   1                   0  \n",
       "611                      0                   0                   0  \n",
       "465                      0                   0                   0  \n",
       "370                      0                   0                   0  "
      ]
     },
     "execution_count": 20,
     "metadata": {},
     "output_type": "execute_result"
    }
   ],
   "source": [
    "print( \"\\nX_test:\\n\")\n",
    "print( X_test.shape)\n",
    "X_test.head()"
   ]
  },
  {
   "cell_type": "code",
   "execution_count": 21,
   "metadata": {
    "scrolled": false
   },
   "outputs": [
    {
     "data": {
      "text/plain": [
       "LinearRegression(copy_X=True, fit_intercept=True, n_jobs=None, normalize=True)"
      ]
     },
     "execution_count": 21,
     "metadata": {},
     "output_type": "execute_result"
    }
   ],
   "source": [
    "# Creating the linear Regression Model\n",
    "lr = LinearRegression(normalize=True)\n",
    "lr.fit(X_train,Y_train)"
   ]
  },
  {
   "cell_type": "code",
   "execution_count": 22,
   "metadata": {
    "scrolled": false
   },
   "outputs": [
    {
     "name": "stdout",
     "output_type": "stream",
     "text": [
      "2.3372991420100027\n"
     ]
    }
   ],
   "source": [
    "# Testing the Model \n",
    "Y_pred = lr.predict(X_test)\n",
    "\n",
    "# Calculating Root Mean Square Error\n",
    "RMSE = np.sqrt(mean_squared_error(Y_pred, Y_test))\n",
    "print(RMSE)"
   ]
  },
  {
   "cell_type": "code",
   "execution_count": 23,
   "metadata": {
    "scrolled": false
   },
   "outputs": [
    {
     "data": {
      "text/plain": [
       "array([[ 0.00393048, -2.72801556,  0.19509156, -2.72801556,  2.25977035,\n",
       "         1.47526969,  0.66996004,  2.21087984,  2.45892164,  1.89124078,\n",
       "        -2.43322038,  1.70645299, -2.67117515, -2.49220727,  0.69100954,\n",
       "         0.67244175]])"
      ]
     },
     "execution_count": 23,
     "metadata": {},
     "output_type": "execute_result"
    }
   ],
   "source": [
    "# Displaying Linear Regression Coefficients\n",
    "lr.coef_"
   ]
  },
  {
   "cell_type": "code",
   "execution_count": 24,
   "metadata": {
    "scrolled": false
   },
   "outputs": [
    {
     "data": {
      "text/plain": [
       "array([4.1694709])"
      ]
     },
     "execution_count": 24,
     "metadata": {},
     "output_type": "execute_result"
    }
   ],
   "source": [
    "# Displaying the Intercept\n",
    "lr.intercept_"
   ]
  },
  {
   "cell_type": "code",
   "execution_count": 25,
   "metadata": {
    "scrolled": false
   },
   "outputs": [
    {
     "name": "stdout",
     "output_type": "stream",
     "text": [
      "<class 'pandas.core.frame.DataFrame'>\n",
      "RangeIndex: 643 entries, 0 to 642\n",
      "Data columns (total 16 columns):\n",
      "transportation_expense    643 non-null int64\n",
      "disciplinary_failure      643 non-null int64\n",
      "son                       643 non-null int64\n",
      "reason_for_absence_0      643 non-null uint8\n",
      "reason_for_absence_1      643 non-null uint8\n",
      "reason_for_absence_10     643 non-null uint8\n",
      "reason_for_absence_13     643 non-null uint8\n",
      "reason_for_absence_18     643 non-null uint8\n",
      "reason_for_absence_19     643 non-null uint8\n",
      "reason_for_absence_22     643 non-null uint8\n",
      "reason_for_absence_23     643 non-null uint8\n",
      "reason_for_absence_26     643 non-null uint8\n",
      "reason_for_absence_27     643 non-null uint8\n",
      "reason_for_absence_28     643 non-null uint8\n",
      "month_of_absence_3        643 non-null uint8\n",
      "month_of_absence_7        643 non-null uint8\n",
      "dtypes: int64(3), uint8(13)\n",
      "memory usage: 23.3 KB\n"
     ]
    }
   ],
   "source": [
    "X.info()"
   ]
  },
  {
   "cell_type": "code",
   "execution_count": 26,
   "metadata": {
    "scrolled": true
   },
   "outputs": [
    {
     "data": {
      "text/plain": [
       "Index(['transportation_expense', 'disciplinary_failure', 'son',\n",
       "       'no_reson_provided', 'infectious_and_parasitic_diseases',\n",
       "       'diseases_of_the_respiratory_system',\n",
       "       'diseases_of_the_musculoskeletal_system_and_connective_tissue',\n",
       "       'symptoms_signs_and_abnormal_clinical_and_laboratory_findings_not_elsewhere_classified',\n",
       "       'injury_poisoning_and_certain_other_consequences_of_external_causes',\n",
       "       'patient follow-up', 'medical_consultation', 'unjustified_absence',\n",
       "       'physiotherapy', 'dental_consultation', 'march', 'july'],\n",
       "      dtype='object')"
      ]
     },
     "execution_count": 26,
     "metadata": {},
     "output_type": "execute_result"
    }
   ],
   "source": [
    "# Mapping categorical labels with actual values\n",
    "\n",
    "X_Names = X.rename(columns={\"reason_for_absence_0\": \"no_reson_provided\", \"reason_for_absence_1\": \"infectious_and_parasitic_diseases\",\n",
    "                       \"reason_for_absence_10\":\"diseases_of_the_respiratory_system\", \"reason_for_absence_13\":\"diseases_of_the_musculoskeletal_system_and_connective_tissue\",\n",
    "                       \"reason_for_absence_18\": \"symptoms_signs_and_abnormal_clinical_and_laboratory_findings_not_elsewhere_classified\",\n",
    "                       \"reason_for_absence_19\": \"injury_poisoning_and_certain_other_consequences_of_external_causes\",\n",
    "                       \"reason_for_absence_22\": \"patient follow-up\", \"reason_for_absence_23\": \"medical_consultation\", \"reason_for_absence_26\": \"unjustified_absence\",\n",
    "                       \"reason_for_absence_27\": \"physiotherapy\", \"reason_for_absence_28\": \"dental_consultation\", \"month_of_absence_3\": \"march\", \"month_of_absence_7\": \"july\"})\n",
    "X_Names.columns"
   ]
  },
  {
   "cell_type": "code",
   "execution_count": 27,
   "metadata": {
    "scrolled": false
   },
   "outputs": [
    {
     "data": {
      "text/plain": [
       "Text(0.5, 1.0, 'Feature importance using Linear Regression Model')"
      ]
     },
     "execution_count": 27,
     "metadata": {},
     "output_type": "execute_result"
    },
    {
     "data": {
      "image/png": "[encoded data removed]",
      "text/plain": [
       "<Figure size 1008x1008 with 1 Axes>"
      ]
     },
     "metadata": {
      "needs_background": "light"
     },
     "output_type": "display_data"
    }
   ],
   "source": [
    "# Plotting importance of features\n",
    "\n",
    "coef = pd.Series(lr.coef_[0], index = X_Names.columns)\n",
    "imp_coef = coef.sort_values()\n",
    "matplotlib.rcParams['figure.figsize'] = (14.0, 14.0)\n",
    "imp_coef.plot(kind = \"barh\")\n",
    "plt.title(\"Feature importance using Linear Regression Model\")"
   ]
  }
 ],
 "metadata": {
  "kernelspec": {
   "display_name": "Python 3",
   "language": "python",
   "name": "python3"
  },
  "language_info": {
   "codemirror_mode": {
    "name": "ipython",
    "version": 3
   },
   "file_extension": ".py",
   "mimetype": "text/x-python",
   "name": "python",
   "nbconvert_exporter": "python",
   "pygments_lexer": "ipython3",
   "version": "3.7.3"
  }
 },
 "nbformat": 4,
 "nbformat_minor": 2
}
